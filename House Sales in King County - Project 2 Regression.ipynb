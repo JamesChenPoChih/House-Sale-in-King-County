{
 "cells": [
  {
   "cell_type": "markdown",
   "metadata": {},
   "source": [
    "# House Sales in King County - Project 2 Regression"
   ]
  },
  {
   "cell_type": "markdown",
   "metadata": {},
   "source": [
    "___"
   ]
  },
  {
   "cell_type": "markdown",
   "metadata": {},
   "source": [
    "#### Data Set Information:\n",
    "The description for the 20 features is given below:\n",
    "\n",
    "- id : It is the unique numeric number assigned to each house being sold.\n",
    "- date : It is the date on which the house was sold out.\n",
    "- price: It is the price of house which we have to predict so this is our target variable and aprat from it are our features.\n",
    "- bedrooms : It determines number of bedrooms in a house.\n",
    "- bathrooms : It determines number of bathrooms in a bedroom of a house.\n",
    "- sqft_living : It is the measurement variable which determines the measurement of house in square foot.\n",
    "- sqft_lot : It is also the measurement variable which determines square foot of the lot.\n",
    "- floors: It determines total floors means levels of house.\n",
    "- waterfront : This feature determines whether a house has a view to waterfront 0 means no 1 means yes.\n",
    "- view : This feature determines whether a house has been viewed or not 0 means no 1 means yes.\n",
    "- condition : It determines the overall condition of a house on a scale of 1 to 5.\n",
    "- grade : It determines the overall grade given to the housing unit, based on King County grading system on a scale of 1 to 11.\n",
    "- sqft_above : It determines square footage of house apart from basement.\n",
    "- sqft_basement : It determines square footage of the basement of the house.\n",
    "- yr_built : It detrmines the date of building of the house.\n",
    "- yr_renovated : It detrmines year of renovation of house.\n",
    "- zipcode : It determines the zipcode of the location of the house.\n",
    "- lat : It determines the latitude of the location of the house.\n",
    "- long : It determines the longitude of the location of the house.\n",
    "- sqft_living15 : Living room area in 2015(implies-- some renovations)\n",
    "- sqft_lot15 : lotSize area in 2015(implies-- some renovations)"
   ]
  },
  {
   "cell_type": "markdown",
   "metadata": {},
   "source": [
    "## Data Exploration"
   ]
  },
  {
   "cell_type": "code",
   "execution_count": 1,
   "metadata": {},
   "outputs": [
    {
     "data": {
      "text/html": [
       "<div>\n",
       "<style scoped>\n",
       "    .dataframe tbody tr th:only-of-type {\n",
       "        vertical-align: middle;\n",
       "    }\n",
       "\n",
       "    .dataframe tbody tr th {\n",
       "        vertical-align: top;\n",
       "    }\n",
       "\n",
       "    .dataframe thead th {\n",
       "        text-align: right;\n",
       "    }\n",
       "</style>\n",
       "<table border=\"1\" class=\"dataframe\">\n",
       "  <thead>\n",
       "    <tr style=\"text-align: right;\">\n",
       "      <th></th>\n",
       "      <th>id</th>\n",
       "      <th>date</th>\n",
       "      <th>price</th>\n",
       "      <th>bedrooms</th>\n",
       "      <th>bathrooms</th>\n",
       "      <th>sqft_living</th>\n",
       "      <th>sqft_lot</th>\n",
       "      <th>floors</th>\n",
       "      <th>waterfront</th>\n",
       "      <th>view</th>\n",
       "      <th>...</th>\n",
       "      <th>grade</th>\n",
       "      <th>sqft_above</th>\n",
       "      <th>sqft_basement</th>\n",
       "      <th>yr_built</th>\n",
       "      <th>yr_renovated</th>\n",
       "      <th>zipcode</th>\n",
       "      <th>lat</th>\n",
       "      <th>long</th>\n",
       "      <th>sqft_living15</th>\n",
       "      <th>sqft_lot15</th>\n",
       "    </tr>\n",
       "  </thead>\n",
       "  <tbody>\n",
       "    <tr>\n",
       "      <td>0</td>\n",
       "      <td>7129300520</td>\n",
       "      <td>20141013T000000</td>\n",
       "      <td>221900.0</td>\n",
       "      <td>3</td>\n",
       "      <td>1.00</td>\n",
       "      <td>1180</td>\n",
       "      <td>5650</td>\n",
       "      <td>1.0</td>\n",
       "      <td>0</td>\n",
       "      <td>0</td>\n",
       "      <td>...</td>\n",
       "      <td>7</td>\n",
       "      <td>1180</td>\n",
       "      <td>0</td>\n",
       "      <td>1955</td>\n",
       "      <td>0</td>\n",
       "      <td>98178</td>\n",
       "      <td>47.5112</td>\n",
       "      <td>-122.257</td>\n",
       "      <td>1340</td>\n",
       "      <td>5650</td>\n",
       "    </tr>\n",
       "    <tr>\n",
       "      <td>1</td>\n",
       "      <td>6414100192</td>\n",
       "      <td>20141209T000000</td>\n",
       "      <td>538000.0</td>\n",
       "      <td>3</td>\n",
       "      <td>2.25</td>\n",
       "      <td>2570</td>\n",
       "      <td>7242</td>\n",
       "      <td>2.0</td>\n",
       "      <td>0</td>\n",
       "      <td>0</td>\n",
       "      <td>...</td>\n",
       "      <td>7</td>\n",
       "      <td>2170</td>\n",
       "      <td>400</td>\n",
       "      <td>1951</td>\n",
       "      <td>1991</td>\n",
       "      <td>98125</td>\n",
       "      <td>47.7210</td>\n",
       "      <td>-122.319</td>\n",
       "      <td>1690</td>\n",
       "      <td>7639</td>\n",
       "    </tr>\n",
       "    <tr>\n",
       "      <td>2</td>\n",
       "      <td>5631500400</td>\n",
       "      <td>20150225T000000</td>\n",
       "      <td>180000.0</td>\n",
       "      <td>2</td>\n",
       "      <td>1.00</td>\n",
       "      <td>770</td>\n",
       "      <td>10000</td>\n",
       "      <td>1.0</td>\n",
       "      <td>0</td>\n",
       "      <td>0</td>\n",
       "      <td>...</td>\n",
       "      <td>6</td>\n",
       "      <td>770</td>\n",
       "      <td>0</td>\n",
       "      <td>1933</td>\n",
       "      <td>0</td>\n",
       "      <td>98028</td>\n",
       "      <td>47.7379</td>\n",
       "      <td>-122.233</td>\n",
       "      <td>2720</td>\n",
       "      <td>8062</td>\n",
       "    </tr>\n",
       "    <tr>\n",
       "      <td>3</td>\n",
       "      <td>2487200875</td>\n",
       "      <td>20141209T000000</td>\n",
       "      <td>604000.0</td>\n",
       "      <td>4</td>\n",
       "      <td>3.00</td>\n",
       "      <td>1960</td>\n",
       "      <td>5000</td>\n",
       "      <td>1.0</td>\n",
       "      <td>0</td>\n",
       "      <td>0</td>\n",
       "      <td>...</td>\n",
       "      <td>7</td>\n",
       "      <td>1050</td>\n",
       "      <td>910</td>\n",
       "      <td>1965</td>\n",
       "      <td>0</td>\n",
       "      <td>98136</td>\n",
       "      <td>47.5208</td>\n",
       "      <td>-122.393</td>\n",
       "      <td>1360</td>\n",
       "      <td>5000</td>\n",
       "    </tr>\n",
       "    <tr>\n",
       "      <td>4</td>\n",
       "      <td>1954400510</td>\n",
       "      <td>20150218T000000</td>\n",
       "      <td>510000.0</td>\n",
       "      <td>3</td>\n",
       "      <td>2.00</td>\n",
       "      <td>1680</td>\n",
       "      <td>8080</td>\n",
       "      <td>1.0</td>\n",
       "      <td>0</td>\n",
       "      <td>0</td>\n",
       "      <td>...</td>\n",
       "      <td>8</td>\n",
       "      <td>1680</td>\n",
       "      <td>0</td>\n",
       "      <td>1987</td>\n",
       "      <td>0</td>\n",
       "      <td>98074</td>\n",
       "      <td>47.6168</td>\n",
       "      <td>-122.045</td>\n",
       "      <td>1800</td>\n",
       "      <td>7503</td>\n",
       "    </tr>\n",
       "  </tbody>\n",
       "</table>\n",
       "<p>5 rows × 21 columns</p>\n",
       "</div>"
      ],
      "text/plain": [
       "           id             date     price  bedrooms  bathrooms  sqft_living  \\\n",
       "0  7129300520  20141013T000000  221900.0         3       1.00         1180   \n",
       "1  6414100192  20141209T000000  538000.0         3       2.25         2570   \n",
       "2  5631500400  20150225T000000  180000.0         2       1.00          770   \n",
       "3  2487200875  20141209T000000  604000.0         4       3.00         1960   \n",
       "4  1954400510  20150218T000000  510000.0         3       2.00         1680   \n",
       "\n",
       "   sqft_lot  floors  waterfront  view  ...  grade  sqft_above  sqft_basement  \\\n",
       "0      5650     1.0           0     0  ...      7        1180              0   \n",
       "1      7242     2.0           0     0  ...      7        2170            400   \n",
       "2     10000     1.0           0     0  ...      6         770              0   \n",
       "3      5000     1.0           0     0  ...      7        1050            910   \n",
       "4      8080     1.0           0     0  ...      8        1680              0   \n",
       "\n",
       "   yr_built  yr_renovated  zipcode      lat     long  sqft_living15  \\\n",
       "0      1955             0    98178  47.5112 -122.257           1340   \n",
       "1      1951          1991    98125  47.7210 -122.319           1690   \n",
       "2      1933             0    98028  47.7379 -122.233           2720   \n",
       "3      1965             0    98136  47.5208 -122.393           1360   \n",
       "4      1987             0    98074  47.6168 -122.045           1800   \n",
       "\n",
       "   sqft_lot15  \n",
       "0        5650  \n",
       "1        7639  \n",
       "2        8062  \n",
       "3        5000  \n",
       "4        7503  \n",
       "\n",
       "[5 rows x 21 columns]"
      ]
     },
     "execution_count": 1,
     "metadata": {},
     "output_type": "execute_result"
    }
   ],
   "source": [
    "import pandas as pd\n",
    "import numpy as np\n",
    "import matplotlib.pyplot as plt\n",
    "df1 = pd.read_csv ('kc_house_data.csv')\n",
    "df1.head()"
   ]
  },
  {
   "cell_type": "code",
   "execution_count": 2,
   "metadata": {},
   "outputs": [
    {
     "data": {
      "text/plain": [
       "(21613, 21)"
      ]
     },
     "execution_count": 2,
     "metadata": {},
     "output_type": "execute_result"
    }
   ],
   "source": [
    "# At least 15 features (columns)\n",
    "# At least 1000 instances (rows)\n",
    "df1.shape"
   ]
  },
  {
   "cell_type": "code",
   "execution_count": 3,
   "metadata": {},
   "outputs": [
    {
     "data": {
      "text/html": [
       "<div>\n",
       "<style scoped>\n",
       "    .dataframe tbody tr th:only-of-type {\n",
       "        vertical-align: middle;\n",
       "    }\n",
       "\n",
       "    .dataframe tbody tr th {\n",
       "        vertical-align: top;\n",
       "    }\n",
       "\n",
       "    .dataframe thead th {\n",
       "        text-align: right;\n",
       "    }\n",
       "</style>\n",
       "<table border=\"1\" class=\"dataframe\">\n",
       "  <thead>\n",
       "    <tr style=\"text-align: right;\">\n",
       "      <th></th>\n",
       "      <th>id</th>\n",
       "      <th>price</th>\n",
       "      <th>bedrooms</th>\n",
       "      <th>bathrooms</th>\n",
       "      <th>sqft_living</th>\n",
       "      <th>sqft_lot</th>\n",
       "      <th>floors</th>\n",
       "      <th>waterfront</th>\n",
       "      <th>view</th>\n",
       "      <th>condition</th>\n",
       "      <th>grade</th>\n",
       "      <th>sqft_above</th>\n",
       "      <th>sqft_basement</th>\n",
       "      <th>yr_built</th>\n",
       "      <th>yr_renovated</th>\n",
       "      <th>zipcode</th>\n",
       "      <th>lat</th>\n",
       "      <th>long</th>\n",
       "      <th>sqft_living15</th>\n",
       "      <th>sqft_lot15</th>\n",
       "    </tr>\n",
       "  </thead>\n",
       "  <tbody>\n",
       "    <tr>\n",
       "      <td>count</td>\n",
       "      <td>2.161300e+04</td>\n",
       "      <td>2.161300e+04</td>\n",
       "      <td>21613.000000</td>\n",
       "      <td>21613.000000</td>\n",
       "      <td>21613.000000</td>\n",
       "      <td>2.161300e+04</td>\n",
       "      <td>21613.000000</td>\n",
       "      <td>21613.000000</td>\n",
       "      <td>21613.000000</td>\n",
       "      <td>21613.000000</td>\n",
       "      <td>21613.000000</td>\n",
       "      <td>21613.000000</td>\n",
       "      <td>21613.000000</td>\n",
       "      <td>21613.000000</td>\n",
       "      <td>21613.000000</td>\n",
       "      <td>21613.000000</td>\n",
       "      <td>21613.000000</td>\n",
       "      <td>21613.000000</td>\n",
       "      <td>21613.000000</td>\n",
       "      <td>21613.000000</td>\n",
       "    </tr>\n",
       "    <tr>\n",
       "      <td>mean</td>\n",
       "      <td>4.580302e+09</td>\n",
       "      <td>5.400881e+05</td>\n",
       "      <td>3.370842</td>\n",
       "      <td>2.114757</td>\n",
       "      <td>2079.899736</td>\n",
       "      <td>1.510697e+04</td>\n",
       "      <td>1.494309</td>\n",
       "      <td>0.007542</td>\n",
       "      <td>0.234303</td>\n",
       "      <td>3.409430</td>\n",
       "      <td>7.656873</td>\n",
       "      <td>1788.390691</td>\n",
       "      <td>291.509045</td>\n",
       "      <td>1971.005136</td>\n",
       "      <td>84.402258</td>\n",
       "      <td>98077.939805</td>\n",
       "      <td>47.560053</td>\n",
       "      <td>-122.213896</td>\n",
       "      <td>1986.552492</td>\n",
       "      <td>12768.455652</td>\n",
       "    </tr>\n",
       "    <tr>\n",
       "      <td>std</td>\n",
       "      <td>2.876566e+09</td>\n",
       "      <td>3.671272e+05</td>\n",
       "      <td>0.930062</td>\n",
       "      <td>0.770163</td>\n",
       "      <td>918.440897</td>\n",
       "      <td>4.142051e+04</td>\n",
       "      <td>0.539989</td>\n",
       "      <td>0.086517</td>\n",
       "      <td>0.766318</td>\n",
       "      <td>0.650743</td>\n",
       "      <td>1.175459</td>\n",
       "      <td>828.090978</td>\n",
       "      <td>442.575043</td>\n",
       "      <td>29.373411</td>\n",
       "      <td>401.679240</td>\n",
       "      <td>53.505026</td>\n",
       "      <td>0.138564</td>\n",
       "      <td>0.140828</td>\n",
       "      <td>685.391304</td>\n",
       "      <td>27304.179631</td>\n",
       "    </tr>\n",
       "    <tr>\n",
       "      <td>min</td>\n",
       "      <td>1.000102e+06</td>\n",
       "      <td>7.500000e+04</td>\n",
       "      <td>0.000000</td>\n",
       "      <td>0.000000</td>\n",
       "      <td>290.000000</td>\n",
       "      <td>5.200000e+02</td>\n",
       "      <td>1.000000</td>\n",
       "      <td>0.000000</td>\n",
       "      <td>0.000000</td>\n",
       "      <td>1.000000</td>\n",
       "      <td>1.000000</td>\n",
       "      <td>290.000000</td>\n",
       "      <td>0.000000</td>\n",
       "      <td>1900.000000</td>\n",
       "      <td>0.000000</td>\n",
       "      <td>98001.000000</td>\n",
       "      <td>47.155900</td>\n",
       "      <td>-122.519000</td>\n",
       "      <td>399.000000</td>\n",
       "      <td>651.000000</td>\n",
       "    </tr>\n",
       "    <tr>\n",
       "      <td>25%</td>\n",
       "      <td>2.123049e+09</td>\n",
       "      <td>3.219500e+05</td>\n",
       "      <td>3.000000</td>\n",
       "      <td>1.750000</td>\n",
       "      <td>1427.000000</td>\n",
       "      <td>5.040000e+03</td>\n",
       "      <td>1.000000</td>\n",
       "      <td>0.000000</td>\n",
       "      <td>0.000000</td>\n",
       "      <td>3.000000</td>\n",
       "      <td>7.000000</td>\n",
       "      <td>1190.000000</td>\n",
       "      <td>0.000000</td>\n",
       "      <td>1951.000000</td>\n",
       "      <td>0.000000</td>\n",
       "      <td>98033.000000</td>\n",
       "      <td>47.471000</td>\n",
       "      <td>-122.328000</td>\n",
       "      <td>1490.000000</td>\n",
       "      <td>5100.000000</td>\n",
       "    </tr>\n",
       "    <tr>\n",
       "      <td>50%</td>\n",
       "      <td>3.904930e+09</td>\n",
       "      <td>4.500000e+05</td>\n",
       "      <td>3.000000</td>\n",
       "      <td>2.250000</td>\n",
       "      <td>1910.000000</td>\n",
       "      <td>7.618000e+03</td>\n",
       "      <td>1.500000</td>\n",
       "      <td>0.000000</td>\n",
       "      <td>0.000000</td>\n",
       "      <td>3.000000</td>\n",
       "      <td>7.000000</td>\n",
       "      <td>1560.000000</td>\n",
       "      <td>0.000000</td>\n",
       "      <td>1975.000000</td>\n",
       "      <td>0.000000</td>\n",
       "      <td>98065.000000</td>\n",
       "      <td>47.571800</td>\n",
       "      <td>-122.230000</td>\n",
       "      <td>1840.000000</td>\n",
       "      <td>7620.000000</td>\n",
       "    </tr>\n",
       "    <tr>\n",
       "      <td>75%</td>\n",
       "      <td>7.308900e+09</td>\n",
       "      <td>6.450000e+05</td>\n",
       "      <td>4.000000</td>\n",
       "      <td>2.500000</td>\n",
       "      <td>2550.000000</td>\n",
       "      <td>1.068800e+04</td>\n",
       "      <td>2.000000</td>\n",
       "      <td>0.000000</td>\n",
       "      <td>0.000000</td>\n",
       "      <td>4.000000</td>\n",
       "      <td>8.000000</td>\n",
       "      <td>2210.000000</td>\n",
       "      <td>560.000000</td>\n",
       "      <td>1997.000000</td>\n",
       "      <td>0.000000</td>\n",
       "      <td>98118.000000</td>\n",
       "      <td>47.678000</td>\n",
       "      <td>-122.125000</td>\n",
       "      <td>2360.000000</td>\n",
       "      <td>10083.000000</td>\n",
       "    </tr>\n",
       "    <tr>\n",
       "      <td>max</td>\n",
       "      <td>9.900000e+09</td>\n",
       "      <td>7.700000e+06</td>\n",
       "      <td>33.000000</td>\n",
       "      <td>8.000000</td>\n",
       "      <td>13540.000000</td>\n",
       "      <td>1.651359e+06</td>\n",
       "      <td>3.500000</td>\n",
       "      <td>1.000000</td>\n",
       "      <td>4.000000</td>\n",
       "      <td>5.000000</td>\n",
       "      <td>13.000000</td>\n",
       "      <td>9410.000000</td>\n",
       "      <td>4820.000000</td>\n",
       "      <td>2015.000000</td>\n",
       "      <td>2015.000000</td>\n",
       "      <td>98199.000000</td>\n",
       "      <td>47.777600</td>\n",
       "      <td>-121.315000</td>\n",
       "      <td>6210.000000</td>\n",
       "      <td>871200.000000</td>\n",
       "    </tr>\n",
       "  </tbody>\n",
       "</table>\n",
       "</div>"
      ],
      "text/plain": [
       "                 id         price      bedrooms     bathrooms   sqft_living  \\\n",
       "count  2.161300e+04  2.161300e+04  21613.000000  21613.000000  21613.000000   \n",
       "mean   4.580302e+09  5.400881e+05      3.370842      2.114757   2079.899736   \n",
       "std    2.876566e+09  3.671272e+05      0.930062      0.770163    918.440897   \n",
       "min    1.000102e+06  7.500000e+04      0.000000      0.000000    290.000000   \n",
       "25%    2.123049e+09  3.219500e+05      3.000000      1.750000   1427.000000   \n",
       "50%    3.904930e+09  4.500000e+05      3.000000      2.250000   1910.000000   \n",
       "75%    7.308900e+09  6.450000e+05      4.000000      2.500000   2550.000000   \n",
       "max    9.900000e+09  7.700000e+06     33.000000      8.000000  13540.000000   \n",
       "\n",
       "           sqft_lot        floors    waterfront          view     condition  \\\n",
       "count  2.161300e+04  21613.000000  21613.000000  21613.000000  21613.000000   \n",
       "mean   1.510697e+04      1.494309      0.007542      0.234303      3.409430   \n",
       "std    4.142051e+04      0.539989      0.086517      0.766318      0.650743   \n",
       "min    5.200000e+02      1.000000      0.000000      0.000000      1.000000   \n",
       "25%    5.040000e+03      1.000000      0.000000      0.000000      3.000000   \n",
       "50%    7.618000e+03      1.500000      0.000000      0.000000      3.000000   \n",
       "75%    1.068800e+04      2.000000      0.000000      0.000000      4.000000   \n",
       "max    1.651359e+06      3.500000      1.000000      4.000000      5.000000   \n",
       "\n",
       "              grade    sqft_above  sqft_basement      yr_built  yr_renovated  \\\n",
       "count  21613.000000  21613.000000   21613.000000  21613.000000  21613.000000   \n",
       "mean       7.656873   1788.390691     291.509045   1971.005136     84.402258   \n",
       "std        1.175459    828.090978     442.575043     29.373411    401.679240   \n",
       "min        1.000000    290.000000       0.000000   1900.000000      0.000000   \n",
       "25%        7.000000   1190.000000       0.000000   1951.000000      0.000000   \n",
       "50%        7.000000   1560.000000       0.000000   1975.000000      0.000000   \n",
       "75%        8.000000   2210.000000     560.000000   1997.000000      0.000000   \n",
       "max       13.000000   9410.000000    4820.000000   2015.000000   2015.000000   \n",
       "\n",
       "            zipcode           lat          long  sqft_living15     sqft_lot15  \n",
       "count  21613.000000  21613.000000  21613.000000   21613.000000   21613.000000  \n",
       "mean   98077.939805     47.560053   -122.213896    1986.552492   12768.455652  \n",
       "std       53.505026      0.138564      0.140828     685.391304   27304.179631  \n",
       "min    98001.000000     47.155900   -122.519000     399.000000     651.000000  \n",
       "25%    98033.000000     47.471000   -122.328000    1490.000000    5100.000000  \n",
       "50%    98065.000000     47.571800   -122.230000    1840.000000    7620.000000  \n",
       "75%    98118.000000     47.678000   -122.125000    2360.000000   10083.000000  \n",
       "max    98199.000000     47.777600   -121.315000    6210.000000  871200.000000  "
      ]
     },
     "execution_count": 3,
     "metadata": {},
     "output_type": "execute_result"
    }
   ],
   "source": [
    "df1.describe()"
   ]
  },
  {
   "cell_type": "code",
   "execution_count": 4,
   "metadata": {},
   "outputs": [
    {
     "name": "stdout",
     "output_type": "stream",
     "text": [
      "<class 'pandas.core.frame.DataFrame'>\n",
      "RangeIndex: 21613 entries, 0 to 21612\n",
      "Data columns (total 21 columns):\n",
      "id               21613 non-null int64\n",
      "date             21613 non-null object\n",
      "price            21613 non-null float64\n",
      "bedrooms         21613 non-null int64\n",
      "bathrooms        21613 non-null float64\n",
      "sqft_living      21613 non-null int64\n",
      "sqft_lot         21613 non-null int64\n",
      "floors           21613 non-null float64\n",
      "waterfront       21613 non-null int64\n",
      "view             21613 non-null int64\n",
      "condition        21613 non-null int64\n",
      "grade            21613 non-null int64\n",
      "sqft_above       21613 non-null int64\n",
      "sqft_basement    21613 non-null int64\n",
      "yr_built         21613 non-null int64\n",
      "yr_renovated     21613 non-null int64\n",
      "zipcode          21613 non-null int64\n",
      "lat              21613 non-null float64\n",
      "long             21613 non-null float64\n",
      "sqft_living15    21613 non-null int64\n",
      "sqft_lot15       21613 non-null int64\n",
      "dtypes: float64(5), int64(15), object(1)\n",
      "memory usage: 3.5+ MB\n"
     ]
    }
   ],
   "source": [
    "df1.info()"
   ]
  },
  {
   "cell_type": "code",
   "execution_count": 5,
   "metadata": {},
   "outputs": [
    {
     "data": {
      "text/plain": [
       "id               0\n",
       "date             0\n",
       "price            0\n",
       "bedrooms         0\n",
       "bathrooms        0\n",
       "sqft_living      0\n",
       "sqft_lot         0\n",
       "floors           0\n",
       "waterfront       0\n",
       "view             0\n",
       "condition        0\n",
       "grade            0\n",
       "sqft_above       0\n",
       "sqft_basement    0\n",
       "yr_built         0\n",
       "yr_renovated     0\n",
       "zipcode          0\n",
       "lat              0\n",
       "long             0\n",
       "sqft_living15    0\n",
       "sqft_lot15       0\n",
       "dtype: int64"
      ]
     },
     "execution_count": 5,
     "metadata": {},
     "output_type": "execute_result"
    }
   ],
   "source": [
    "df1.isnull().sum()"
   ]
  },
  {
   "cell_type": "code",
   "execution_count": 6,
   "metadata": {},
   "outputs": [],
   "source": [
    "#Randomly mask valuee in our dataframe to meet the project requirment of missing value\n",
    "# Between 5 to 10 percent missing values across the dataset.\n",
    "np.random.seed(0)\n",
    "df1_wNaN = df1.mask(np.random.random(df1.shape) < .1)"
   ]
  },
  {
   "cell_type": "code",
   "execution_count": 7,
   "metadata": {},
   "outputs": [
    {
     "data": {
      "text/plain": [
       "id               2190\n",
       "date             2173\n",
       "price            2268\n",
       "bedrooms         2146\n",
       "bathrooms        2180\n",
       "sqft_living      2132\n",
       "sqft_lot         2242\n",
       "floors           2171\n",
       "waterfront       2097\n",
       "view             2124\n",
       "condition        2221\n",
       "grade            2263\n",
       "sqft_above       2164\n",
       "sqft_basement    2191\n",
       "yr_built         2163\n",
       "yr_renovated     2198\n",
       "zipcode          2210\n",
       "lat              2189\n",
       "long             2181\n",
       "sqft_living15    2131\n",
       "sqft_lot15       2176\n",
       "dtype: int64"
      ]
     },
     "execution_count": 7,
     "metadata": {},
     "output_type": "execute_result"
    }
   ],
   "source": [
    "df1_wNaN.isnull().sum()"
   ]
  },
  {
   "cell_type": "code",
   "execution_count": 8,
   "metadata": {},
   "outputs": [
    {
     "data": {
      "text/html": [
       "<div>\n",
       "<style scoped>\n",
       "    .dataframe tbody tr th:only-of-type {\n",
       "        vertical-align: middle;\n",
       "    }\n",
       "\n",
       "    .dataframe tbody tr th {\n",
       "        vertical-align: top;\n",
       "    }\n",
       "\n",
       "    .dataframe thead th {\n",
       "        text-align: right;\n",
       "    }\n",
       "</style>\n",
       "<table border=\"1\" class=\"dataframe\">\n",
       "  <thead>\n",
       "    <tr style=\"text-align: right;\">\n",
       "      <th></th>\n",
       "      <th>id</th>\n",
       "      <th>date</th>\n",
       "      <th>price</th>\n",
       "      <th>bedrooms</th>\n",
       "      <th>bathrooms</th>\n",
       "      <th>sqft_living</th>\n",
       "      <th>sqft_lot</th>\n",
       "      <th>floors</th>\n",
       "      <th>waterfront</th>\n",
       "      <th>view</th>\n",
       "      <th>...</th>\n",
       "      <th>grade</th>\n",
       "      <th>sqft_above</th>\n",
       "      <th>sqft_basement</th>\n",
       "      <th>yr_built</th>\n",
       "      <th>yr_renovated</th>\n",
       "      <th>zipcode</th>\n",
       "      <th>lat</th>\n",
       "      <th>long</th>\n",
       "      <th>sqft_living15</th>\n",
       "      <th>sqft_lot15</th>\n",
       "    </tr>\n",
       "  </thead>\n",
       "  <tbody>\n",
       "    <tr>\n",
       "      <td>0</td>\n",
       "      <td>7.129301e+09</td>\n",
       "      <td>20141013T000000</td>\n",
       "      <td>221900.0</td>\n",
       "      <td>3.0</td>\n",
       "      <td>1.00</td>\n",
       "      <td>1180.0</td>\n",
       "      <td>5650.0</td>\n",
       "      <td>1.0</td>\n",
       "      <td>0.0</td>\n",
       "      <td>0.0</td>\n",
       "      <td>...</td>\n",
       "      <td>7.0</td>\n",
       "      <td>1180.0</td>\n",
       "      <td>0.0</td>\n",
       "      <td>NaN</td>\n",
       "      <td>NaN</td>\n",
       "      <td>NaN</td>\n",
       "      <td>47.5112</td>\n",
       "      <td>-122.257</td>\n",
       "      <td>1340.0</td>\n",
       "      <td>5650.0</td>\n",
       "    </tr>\n",
       "    <tr>\n",
       "      <td>1</td>\n",
       "      <td>6.414100e+09</td>\n",
       "      <td>20141209T000000</td>\n",
       "      <td>538000.0</td>\n",
       "      <td>3.0</td>\n",
       "      <td>2.25</td>\n",
       "      <td>2570.0</td>\n",
       "      <td>7242.0</td>\n",
       "      <td>2.0</td>\n",
       "      <td>0.0</td>\n",
       "      <td>0.0</td>\n",
       "      <td>...</td>\n",
       "      <td>7.0</td>\n",
       "      <td>2170.0</td>\n",
       "      <td>NaN</td>\n",
       "      <td>1951.0</td>\n",
       "      <td>1991.0</td>\n",
       "      <td>98125.0</td>\n",
       "      <td>47.7210</td>\n",
       "      <td>-122.319</td>\n",
       "      <td>1690.0</td>\n",
       "      <td>7639.0</td>\n",
       "    </tr>\n",
       "    <tr>\n",
       "      <td>2</td>\n",
       "      <td>5.631500e+09</td>\n",
       "      <td>NaN</td>\n",
       "      <td>180000.0</td>\n",
       "      <td>2.0</td>\n",
       "      <td>1.00</td>\n",
       "      <td>770.0</td>\n",
       "      <td>10000.0</td>\n",
       "      <td>1.0</td>\n",
       "      <td>0.0</td>\n",
       "      <td>0.0</td>\n",
       "      <td>...</td>\n",
       "      <td>6.0</td>\n",
       "      <td>770.0</td>\n",
       "      <td>0.0</td>\n",
       "      <td>1933.0</td>\n",
       "      <td>0.0</td>\n",
       "      <td>98028.0</td>\n",
       "      <td>47.7379</td>\n",
       "      <td>-122.233</td>\n",
       "      <td>2720.0</td>\n",
       "      <td>8062.0</td>\n",
       "    </tr>\n",
       "    <tr>\n",
       "      <td>3</td>\n",
       "      <td>2.487201e+09</td>\n",
       "      <td>20141209T000000</td>\n",
       "      <td>604000.0</td>\n",
       "      <td>4.0</td>\n",
       "      <td>NaN</td>\n",
       "      <td>1960.0</td>\n",
       "      <td>NaN</td>\n",
       "      <td>1.0</td>\n",
       "      <td>0.0</td>\n",
       "      <td>0.0</td>\n",
       "      <td>...</td>\n",
       "      <td>7.0</td>\n",
       "      <td>NaN</td>\n",
       "      <td>910.0</td>\n",
       "      <td>1965.0</td>\n",
       "      <td>0.0</td>\n",
       "      <td>98136.0</td>\n",
       "      <td>47.5208</td>\n",
       "      <td>-122.393</td>\n",
       "      <td>NaN</td>\n",
       "      <td>5000.0</td>\n",
       "    </tr>\n",
       "    <tr>\n",
       "      <td>4</td>\n",
       "      <td>1.954401e+09</td>\n",
       "      <td>20150218T000000</td>\n",
       "      <td>510000.0</td>\n",
       "      <td>NaN</td>\n",
       "      <td>2.00</td>\n",
       "      <td>1680.0</td>\n",
       "      <td>8080.0</td>\n",
       "      <td>1.0</td>\n",
       "      <td>0.0</td>\n",
       "      <td>0.0</td>\n",
       "      <td>...</td>\n",
       "      <td>8.0</td>\n",
       "      <td>1680.0</td>\n",
       "      <td>NaN</td>\n",
       "      <td>1987.0</td>\n",
       "      <td>NaN</td>\n",
       "      <td>98074.0</td>\n",
       "      <td>47.6168</td>\n",
       "      <td>-122.045</td>\n",
       "      <td>1800.0</td>\n",
       "      <td>7503.0</td>\n",
       "    </tr>\n",
       "  </tbody>\n",
       "</table>\n",
       "<p>5 rows × 21 columns</p>\n",
       "</div>"
      ],
      "text/plain": [
       "             id             date     price  bedrooms  bathrooms  sqft_living  \\\n",
       "0  7.129301e+09  20141013T000000  221900.0       3.0       1.00       1180.0   \n",
       "1  6.414100e+09  20141209T000000  538000.0       3.0       2.25       2570.0   \n",
       "2  5.631500e+09              NaN  180000.0       2.0       1.00        770.0   \n",
       "3  2.487201e+09  20141209T000000  604000.0       4.0        NaN       1960.0   \n",
       "4  1.954401e+09  20150218T000000  510000.0       NaN       2.00       1680.0   \n",
       "\n",
       "   sqft_lot  floors  waterfront  view  ...  grade  sqft_above  sqft_basement  \\\n",
       "0    5650.0     1.0         0.0   0.0  ...    7.0      1180.0            0.0   \n",
       "1    7242.0     2.0         0.0   0.0  ...    7.0      2170.0            NaN   \n",
       "2   10000.0     1.0         0.0   0.0  ...    6.0       770.0            0.0   \n",
       "3       NaN     1.0         0.0   0.0  ...    7.0         NaN          910.0   \n",
       "4    8080.0     1.0         0.0   0.0  ...    8.0      1680.0            NaN   \n",
       "\n",
       "   yr_built  yr_renovated  zipcode      lat     long  sqft_living15  \\\n",
       "0       NaN           NaN      NaN  47.5112 -122.257         1340.0   \n",
       "1    1951.0        1991.0  98125.0  47.7210 -122.319         1690.0   \n",
       "2    1933.0           0.0  98028.0  47.7379 -122.233         2720.0   \n",
       "3    1965.0           0.0  98136.0  47.5208 -122.393            NaN   \n",
       "4    1987.0           NaN  98074.0  47.6168 -122.045         1800.0   \n",
       "\n",
       "   sqft_lot15  \n",
       "0      5650.0  \n",
       "1      7639.0  \n",
       "2      8062.0  \n",
       "3      5000.0  \n",
       "4      7503.0  \n",
       "\n",
       "[5 rows x 21 columns]"
      ]
     },
     "execution_count": 8,
     "metadata": {},
     "output_type": "execute_result"
    }
   ],
   "source": [
    "df1_wNaN.head()"
   ]
  },
  {
   "cell_type": "code",
   "execution_count": 9,
   "metadata": {},
   "outputs": [
    {
     "data": {
      "text/html": [
       "<div>\n",
       "<style scoped>\n",
       "    .dataframe tbody tr th:only-of-type {\n",
       "        vertical-align: middle;\n",
       "    }\n",
       "\n",
       "    .dataframe tbody tr th {\n",
       "        vertical-align: top;\n",
       "    }\n",
       "\n",
       "    .dataframe thead th {\n",
       "        text-align: right;\n",
       "    }\n",
       "</style>\n",
       "<table border=\"1\" class=\"dataframe\">\n",
       "  <thead>\n",
       "    <tr style=\"text-align: right;\">\n",
       "      <th></th>\n",
       "      <th>id</th>\n",
       "      <th>date</th>\n",
       "      <th>price</th>\n",
       "      <th>bedrooms</th>\n",
       "      <th>bathrooms</th>\n",
       "      <th>sqft_living</th>\n",
       "      <th>sqft_lot</th>\n",
       "      <th>floors</th>\n",
       "      <th>waterfront</th>\n",
       "      <th>view</th>\n",
       "      <th>...</th>\n",
       "      <th>grade</th>\n",
       "      <th>sqft_above</th>\n",
       "      <th>sqft_basement</th>\n",
       "      <th>yr_built</th>\n",
       "      <th>yr_renovated</th>\n",
       "      <th>zipcode</th>\n",
       "      <th>lat</th>\n",
       "      <th>long</th>\n",
       "      <th>sqft_living15</th>\n",
       "      <th>sqft_lot15</th>\n",
       "    </tr>\n",
       "  </thead>\n",
       "  <tbody>\n",
       "    <tr>\n",
       "      <td>0</td>\n",
       "      <td>7.129301e+09</td>\n",
       "      <td>20141013T000000</td>\n",
       "      <td>221900.0</td>\n",
       "      <td>3.0</td>\n",
       "      <td>1.00</td>\n",
       "      <td>1180.0</td>\n",
       "      <td>5650.0</td>\n",
       "      <td>1.0</td>\n",
       "      <td>0.0</td>\n",
       "      <td>0.0</td>\n",
       "      <td>...</td>\n",
       "      <td>7.0</td>\n",
       "      <td>1180.0</td>\n",
       "      <td>0.0</td>\n",
       "      <td>NaN</td>\n",
       "      <td>NaN</td>\n",
       "      <td>NaN</td>\n",
       "      <td>47.5112</td>\n",
       "      <td>-122.257</td>\n",
       "      <td>1340.0</td>\n",
       "      <td>5650.0</td>\n",
       "    </tr>\n",
       "    <tr>\n",
       "      <td>1</td>\n",
       "      <td>6.414100e+09</td>\n",
       "      <td>20141209T000000</td>\n",
       "      <td>538000.0</td>\n",
       "      <td>3.0</td>\n",
       "      <td>2.25</td>\n",
       "      <td>2570.0</td>\n",
       "      <td>7242.0</td>\n",
       "      <td>2.0</td>\n",
       "      <td>0.0</td>\n",
       "      <td>0.0</td>\n",
       "      <td>...</td>\n",
       "      <td>7.0</td>\n",
       "      <td>2170.0</td>\n",
       "      <td>0.0</td>\n",
       "      <td>1951.0</td>\n",
       "      <td>1991.0</td>\n",
       "      <td>98125.0</td>\n",
       "      <td>47.7210</td>\n",
       "      <td>-122.319</td>\n",
       "      <td>1690.0</td>\n",
       "      <td>7639.0</td>\n",
       "    </tr>\n",
       "    <tr>\n",
       "      <td>2</td>\n",
       "      <td>5.631500e+09</td>\n",
       "      <td>20141209T000000</td>\n",
       "      <td>180000.0</td>\n",
       "      <td>2.0</td>\n",
       "      <td>1.00</td>\n",
       "      <td>770.0</td>\n",
       "      <td>10000.0</td>\n",
       "      <td>1.0</td>\n",
       "      <td>0.0</td>\n",
       "      <td>0.0</td>\n",
       "      <td>...</td>\n",
       "      <td>6.0</td>\n",
       "      <td>770.0</td>\n",
       "      <td>0.0</td>\n",
       "      <td>1933.0</td>\n",
       "      <td>0.0</td>\n",
       "      <td>98028.0</td>\n",
       "      <td>47.7379</td>\n",
       "      <td>-122.233</td>\n",
       "      <td>2720.0</td>\n",
       "      <td>8062.0</td>\n",
       "    </tr>\n",
       "    <tr>\n",
       "      <td>3</td>\n",
       "      <td>2.487201e+09</td>\n",
       "      <td>20141209T000000</td>\n",
       "      <td>604000.0</td>\n",
       "      <td>4.0</td>\n",
       "      <td>1.00</td>\n",
       "      <td>1960.0</td>\n",
       "      <td>10000.0</td>\n",
       "      <td>1.0</td>\n",
       "      <td>0.0</td>\n",
       "      <td>0.0</td>\n",
       "      <td>...</td>\n",
       "      <td>7.0</td>\n",
       "      <td>770.0</td>\n",
       "      <td>910.0</td>\n",
       "      <td>1965.0</td>\n",
       "      <td>0.0</td>\n",
       "      <td>98136.0</td>\n",
       "      <td>47.5208</td>\n",
       "      <td>-122.393</td>\n",
       "      <td>2720.0</td>\n",
       "      <td>5000.0</td>\n",
       "    </tr>\n",
       "    <tr>\n",
       "      <td>4</td>\n",
       "      <td>1.954401e+09</td>\n",
       "      <td>20150218T000000</td>\n",
       "      <td>510000.0</td>\n",
       "      <td>4.0</td>\n",
       "      <td>2.00</td>\n",
       "      <td>1680.0</td>\n",
       "      <td>8080.0</td>\n",
       "      <td>1.0</td>\n",
       "      <td>0.0</td>\n",
       "      <td>0.0</td>\n",
       "      <td>...</td>\n",
       "      <td>8.0</td>\n",
       "      <td>1680.0</td>\n",
       "      <td>910.0</td>\n",
       "      <td>1987.0</td>\n",
       "      <td>0.0</td>\n",
       "      <td>98074.0</td>\n",
       "      <td>47.6168</td>\n",
       "      <td>-122.045</td>\n",
       "      <td>1800.0</td>\n",
       "      <td>7503.0</td>\n",
       "    </tr>\n",
       "  </tbody>\n",
       "</table>\n",
       "<p>5 rows × 21 columns</p>\n",
       "</div>"
      ],
      "text/plain": [
       "             id             date     price  bedrooms  bathrooms  sqft_living  \\\n",
       "0  7.129301e+09  20141013T000000  221900.0       3.0       1.00       1180.0   \n",
       "1  6.414100e+09  20141209T000000  538000.0       3.0       2.25       2570.0   \n",
       "2  5.631500e+09  20141209T000000  180000.0       2.0       1.00        770.0   \n",
       "3  2.487201e+09  20141209T000000  604000.0       4.0       1.00       1960.0   \n",
       "4  1.954401e+09  20150218T000000  510000.0       4.0       2.00       1680.0   \n",
       "\n",
       "   sqft_lot  floors  waterfront  view  ...  grade  sqft_above  sqft_basement  \\\n",
       "0    5650.0     1.0         0.0   0.0  ...    7.0      1180.0            0.0   \n",
       "1    7242.0     2.0         0.0   0.0  ...    7.0      2170.0            0.0   \n",
       "2   10000.0     1.0         0.0   0.0  ...    6.0       770.0            0.0   \n",
       "3   10000.0     1.0         0.0   0.0  ...    7.0       770.0          910.0   \n",
       "4    8080.0     1.0         0.0   0.0  ...    8.0      1680.0          910.0   \n",
       "\n",
       "   yr_built  yr_renovated  zipcode      lat     long  sqft_living15  \\\n",
       "0       NaN           NaN      NaN  47.5112 -122.257         1340.0   \n",
       "1    1951.0        1991.0  98125.0  47.7210 -122.319         1690.0   \n",
       "2    1933.0           0.0  98028.0  47.7379 -122.233         2720.0   \n",
       "3    1965.0           0.0  98136.0  47.5208 -122.393         2720.0   \n",
       "4    1987.0           0.0  98074.0  47.6168 -122.045         1800.0   \n",
       "\n",
       "   sqft_lot15  \n",
       "0      5650.0  \n",
       "1      7639.0  \n",
       "2      8062.0  \n",
       "3      5000.0  \n",
       "4      7503.0  \n",
       "\n",
       "[5 rows x 21 columns]"
      ]
     },
     "execution_count": 9,
     "metadata": {},
     "output_type": "execute_result"
    }
   ],
   "source": [
    "#Impute the missing value by fillna function with pad method \n",
    "#since supervised machine learning model cannot handle NaN.\n",
    "df1_clean = df1_wNaN.fillna(method='pad')\n",
    "df1_clean.head()"
   ]
  },
  {
   "cell_type": "code",
   "execution_count": 10,
   "metadata": {},
   "outputs": [
    {
     "data": {
      "text/plain": [
       "id               0\n",
       "date             0\n",
       "price            0\n",
       "bedrooms         0\n",
       "bathrooms        0\n",
       "sqft_living      0\n",
       "sqft_lot         0\n",
       "floors           0\n",
       "waterfront       0\n",
       "view             0\n",
       "condition        0\n",
       "grade            0\n",
       "sqft_above       0\n",
       "sqft_basement    0\n",
       "yr_built         1\n",
       "yr_renovated     1\n",
       "zipcode          1\n",
       "lat              0\n",
       "long             0\n",
       "sqft_living15    0\n",
       "sqft_lot15       0\n",
       "dtype: int64"
      ]
     },
     "execution_count": 10,
     "metadata": {},
     "output_type": "execute_result"
    }
   ],
   "source": [
    "df1_clean.isnull().sum()"
   ]
  },
  {
   "cell_type": "code",
   "execution_count": 11,
   "metadata": {},
   "outputs": [],
   "source": [
    "df1_1 = df1.copy() "
   ]
  },
  {
   "cell_type": "code",
   "execution_count": 12,
   "metadata": {},
   "outputs": [],
   "source": [
    "import warnings\n",
    "\n",
    "warnings.filterwarnings('ignore')\n",
    "\n",
    "# change view to binary \n",
    "df1_1.view[df1.view < 1] = 0 \n",
    "df1_1.view[df1.view >= 1] = 1 "
   ]
  },
  {
   "cell_type": "code",
   "execution_count": 13,
   "metadata": {},
   "outputs": [],
   "source": [
    "# change waterfront to binary \n",
    "df1_1.view[df1.waterfront < 1] = 0 \n",
    "df1_1.view[df1.waterfront >= 1] = 1 "
   ]
  },
  {
   "cell_type": "code",
   "execution_count": 14,
   "metadata": {},
   "outputs": [
    {
     "data": {
      "text/html": [
       "<div>\n",
       "<style scoped>\n",
       "    .dataframe tbody tr th:only-of-type {\n",
       "        vertical-align: middle;\n",
       "    }\n",
       "\n",
       "    .dataframe tbody tr th {\n",
       "        vertical-align: top;\n",
       "    }\n",
       "\n",
       "    .dataframe thead th {\n",
       "        text-align: right;\n",
       "    }\n",
       "</style>\n",
       "<table border=\"1\" class=\"dataframe\">\n",
       "  <thead>\n",
       "    <tr style=\"text-align: right;\">\n",
       "      <th></th>\n",
       "      <th>id</th>\n",
       "      <th>date</th>\n",
       "      <th>price</th>\n",
       "      <th>bedrooms</th>\n",
       "      <th>bathrooms</th>\n",
       "      <th>sqft_living</th>\n",
       "      <th>sqft_lot</th>\n",
       "      <th>floors</th>\n",
       "      <th>waterfront</th>\n",
       "      <th>view</th>\n",
       "      <th>...</th>\n",
       "      <th>grade</th>\n",
       "      <th>sqft_above</th>\n",
       "      <th>sqft_basement</th>\n",
       "      <th>yr_built</th>\n",
       "      <th>yr_renovated</th>\n",
       "      <th>zipcode</th>\n",
       "      <th>lat</th>\n",
       "      <th>long</th>\n",
       "      <th>sqft_living15</th>\n",
       "      <th>sqft_lot15</th>\n",
       "    </tr>\n",
       "  </thead>\n",
       "  <tbody>\n",
       "    <tr>\n",
       "      <td>0</td>\n",
       "      <td>7129300520</td>\n",
       "      <td>20141013T000000</td>\n",
       "      <td>221900.0</td>\n",
       "      <td>3</td>\n",
       "      <td>1.00</td>\n",
       "      <td>1180</td>\n",
       "      <td>5650</td>\n",
       "      <td>1.0</td>\n",
       "      <td>0</td>\n",
       "      <td>0</td>\n",
       "      <td>...</td>\n",
       "      <td>7</td>\n",
       "      <td>1180</td>\n",
       "      <td>0</td>\n",
       "      <td>1955</td>\n",
       "      <td>0</td>\n",
       "      <td>98178</td>\n",
       "      <td>47.5112</td>\n",
       "      <td>-122.257</td>\n",
       "      <td>1340</td>\n",
       "      <td>5650</td>\n",
       "    </tr>\n",
       "    <tr>\n",
       "      <td>1</td>\n",
       "      <td>6414100192</td>\n",
       "      <td>20141209T000000</td>\n",
       "      <td>538000.0</td>\n",
       "      <td>3</td>\n",
       "      <td>2.25</td>\n",
       "      <td>2570</td>\n",
       "      <td>7242</td>\n",
       "      <td>2.0</td>\n",
       "      <td>0</td>\n",
       "      <td>0</td>\n",
       "      <td>...</td>\n",
       "      <td>7</td>\n",
       "      <td>2170</td>\n",
       "      <td>400</td>\n",
       "      <td>1951</td>\n",
       "      <td>1991</td>\n",
       "      <td>98125</td>\n",
       "      <td>47.7210</td>\n",
       "      <td>-122.319</td>\n",
       "      <td>1690</td>\n",
       "      <td>7639</td>\n",
       "    </tr>\n",
       "    <tr>\n",
       "      <td>2</td>\n",
       "      <td>5631500400</td>\n",
       "      <td>20150225T000000</td>\n",
       "      <td>180000.0</td>\n",
       "      <td>2</td>\n",
       "      <td>1.00</td>\n",
       "      <td>770</td>\n",
       "      <td>10000</td>\n",
       "      <td>1.0</td>\n",
       "      <td>0</td>\n",
       "      <td>0</td>\n",
       "      <td>...</td>\n",
       "      <td>6</td>\n",
       "      <td>770</td>\n",
       "      <td>0</td>\n",
       "      <td>1933</td>\n",
       "      <td>0</td>\n",
       "      <td>98028</td>\n",
       "      <td>47.7379</td>\n",
       "      <td>-122.233</td>\n",
       "      <td>2720</td>\n",
       "      <td>8062</td>\n",
       "    </tr>\n",
       "    <tr>\n",
       "      <td>3</td>\n",
       "      <td>2487200875</td>\n",
       "      <td>20141209T000000</td>\n",
       "      <td>604000.0</td>\n",
       "      <td>4</td>\n",
       "      <td>3.00</td>\n",
       "      <td>1960</td>\n",
       "      <td>5000</td>\n",
       "      <td>1.0</td>\n",
       "      <td>0</td>\n",
       "      <td>0</td>\n",
       "      <td>...</td>\n",
       "      <td>7</td>\n",
       "      <td>1050</td>\n",
       "      <td>910</td>\n",
       "      <td>1965</td>\n",
       "      <td>0</td>\n",
       "      <td>98136</td>\n",
       "      <td>47.5208</td>\n",
       "      <td>-122.393</td>\n",
       "      <td>1360</td>\n",
       "      <td>5000</td>\n",
       "    </tr>\n",
       "    <tr>\n",
       "      <td>4</td>\n",
       "      <td>1954400510</td>\n",
       "      <td>20150218T000000</td>\n",
       "      <td>510000.0</td>\n",
       "      <td>3</td>\n",
       "      <td>2.00</td>\n",
       "      <td>1680</td>\n",
       "      <td>8080</td>\n",
       "      <td>1.0</td>\n",
       "      <td>0</td>\n",
       "      <td>0</td>\n",
       "      <td>...</td>\n",
       "      <td>8</td>\n",
       "      <td>1680</td>\n",
       "      <td>0</td>\n",
       "      <td>1987</td>\n",
       "      <td>0</td>\n",
       "      <td>98074</td>\n",
       "      <td>47.6168</td>\n",
       "      <td>-122.045</td>\n",
       "      <td>1800</td>\n",
       "      <td>7503</td>\n",
       "    </tr>\n",
       "  </tbody>\n",
       "</table>\n",
       "<p>5 rows × 21 columns</p>\n",
       "</div>"
      ],
      "text/plain": [
       "           id             date     price  bedrooms  bathrooms  sqft_living  \\\n",
       "0  7129300520  20141013T000000  221900.0         3       1.00         1180   \n",
       "1  6414100192  20141209T000000  538000.0         3       2.25         2570   \n",
       "2  5631500400  20150225T000000  180000.0         2       1.00          770   \n",
       "3  2487200875  20141209T000000  604000.0         4       3.00         1960   \n",
       "4  1954400510  20150218T000000  510000.0         3       2.00         1680   \n",
       "\n",
       "   sqft_lot  floors  waterfront  view  ...  grade  sqft_above  sqft_basement  \\\n",
       "0      5650     1.0           0     0  ...      7        1180              0   \n",
       "1      7242     2.0           0     0  ...      7        2170            400   \n",
       "2     10000     1.0           0     0  ...      6         770              0   \n",
       "3      5000     1.0           0     0  ...      7        1050            910   \n",
       "4      8080     1.0           0     0  ...      8        1680              0   \n",
       "\n",
       "   yr_built  yr_renovated  zipcode      lat     long  sqft_living15  \\\n",
       "0      1955             0    98178  47.5112 -122.257           1340   \n",
       "1      1951          1991    98125  47.7210 -122.319           1690   \n",
       "2      1933             0    98028  47.7379 -122.233           2720   \n",
       "3      1965             0    98136  47.5208 -122.393           1360   \n",
       "4      1987             0    98074  47.6168 -122.045           1800   \n",
       "\n",
       "   sqft_lot15  \n",
       "0        5650  \n",
       "1        7639  \n",
       "2        8062  \n",
       "3        5000  \n",
       "4        7503  \n",
       "\n",
       "[5 rows x 21 columns]"
      ]
     },
     "execution_count": 14,
     "metadata": {},
     "output_type": "execute_result"
    }
   ],
   "source": [
    "df1_1.head()"
   ]
  },
  {
   "cell_type": "code",
   "execution_count": 15,
   "metadata": {},
   "outputs": [
    {
     "name": "stdout",
     "output_type": "stream",
     "text": [
      "[0 1]\n"
     ]
    }
   ],
   "source": [
    "# Make sure view as binary \n",
    "print(np.unique(df1_1['view']))"
   ]
  },
  {
   "cell_type": "code",
   "execution_count": 16,
   "metadata": {},
   "outputs": [
    {
     "name": "stdout",
     "output_type": "stream",
     "text": [
      "[0 1]\n"
     ]
    }
   ],
   "source": [
    "# Make sure waterfront is a binary\n",
    "print(np.unique(df1_1['waterfront']))"
   ]
  },
  {
   "cell_type": "code",
   "execution_count": 17,
   "metadata": {},
   "outputs": [
    {
     "data": {
      "text/plain": [
       "False"
      ]
     },
     "execution_count": 17,
     "metadata": {},
     "output_type": "execute_result"
    }
   ],
   "source": [
    "# Delete nominal \n",
    "df1_1.drop(['id', 'date', 'zipcode'], axis = 1, inplace = True)\n",
    "\n",
    "df1_1.isnull().values.any()"
   ]
  },
  {
   "cell_type": "code",
   "execution_count": 18,
   "metadata": {},
   "outputs": [
    {
     "data": {
      "text/html": [
       "<div>\n",
       "<style scoped>\n",
       "    .dataframe tbody tr th:only-of-type {\n",
       "        vertical-align: middle;\n",
       "    }\n",
       "\n",
       "    .dataframe tbody tr th {\n",
       "        vertical-align: top;\n",
       "    }\n",
       "\n",
       "    .dataframe thead th {\n",
       "        text-align: right;\n",
       "    }\n",
       "</style>\n",
       "<table border=\"1\" class=\"dataframe\">\n",
       "  <thead>\n",
       "    <tr style=\"text-align: right;\">\n",
       "      <th></th>\n",
       "      <th>price</th>\n",
       "      <th>bedrooms</th>\n",
       "      <th>bathrooms</th>\n",
       "      <th>sqft_living</th>\n",
       "      <th>sqft_lot</th>\n",
       "      <th>floors</th>\n",
       "      <th>waterfront</th>\n",
       "      <th>view</th>\n",
       "      <th>condition</th>\n",
       "      <th>grade</th>\n",
       "      <th>sqft_above</th>\n",
       "      <th>sqft_basement</th>\n",
       "      <th>yr_built</th>\n",
       "      <th>yr_renovated</th>\n",
       "      <th>lat</th>\n",
       "      <th>long</th>\n",
       "      <th>sqft_living15</th>\n",
       "      <th>sqft_lot15</th>\n",
       "    </tr>\n",
       "  </thead>\n",
       "  <tbody>\n",
       "    <tr>\n",
       "      <td>0</td>\n",
       "      <td>221900.0</td>\n",
       "      <td>3</td>\n",
       "      <td>1.00</td>\n",
       "      <td>1180</td>\n",
       "      <td>5650</td>\n",
       "      <td>1.0</td>\n",
       "      <td>0</td>\n",
       "      <td>0</td>\n",
       "      <td>3</td>\n",
       "      <td>7</td>\n",
       "      <td>1180</td>\n",
       "      <td>0</td>\n",
       "      <td>1955</td>\n",
       "      <td>0</td>\n",
       "      <td>47.5112</td>\n",
       "      <td>-122.257</td>\n",
       "      <td>1340</td>\n",
       "      <td>5650</td>\n",
       "    </tr>\n",
       "    <tr>\n",
       "      <td>1</td>\n",
       "      <td>538000.0</td>\n",
       "      <td>3</td>\n",
       "      <td>2.25</td>\n",
       "      <td>2570</td>\n",
       "      <td>7242</td>\n",
       "      <td>2.0</td>\n",
       "      <td>0</td>\n",
       "      <td>0</td>\n",
       "      <td>3</td>\n",
       "      <td>7</td>\n",
       "      <td>2170</td>\n",
       "      <td>400</td>\n",
       "      <td>1951</td>\n",
       "      <td>1991</td>\n",
       "      <td>47.7210</td>\n",
       "      <td>-122.319</td>\n",
       "      <td>1690</td>\n",
       "      <td>7639</td>\n",
       "    </tr>\n",
       "    <tr>\n",
       "      <td>2</td>\n",
       "      <td>180000.0</td>\n",
       "      <td>2</td>\n",
       "      <td>1.00</td>\n",
       "      <td>770</td>\n",
       "      <td>10000</td>\n",
       "      <td>1.0</td>\n",
       "      <td>0</td>\n",
       "      <td>0</td>\n",
       "      <td>3</td>\n",
       "      <td>6</td>\n",
       "      <td>770</td>\n",
       "      <td>0</td>\n",
       "      <td>1933</td>\n",
       "      <td>0</td>\n",
       "      <td>47.7379</td>\n",
       "      <td>-122.233</td>\n",
       "      <td>2720</td>\n",
       "      <td>8062</td>\n",
       "    </tr>\n",
       "    <tr>\n",
       "      <td>3</td>\n",
       "      <td>604000.0</td>\n",
       "      <td>4</td>\n",
       "      <td>3.00</td>\n",
       "      <td>1960</td>\n",
       "      <td>5000</td>\n",
       "      <td>1.0</td>\n",
       "      <td>0</td>\n",
       "      <td>0</td>\n",
       "      <td>5</td>\n",
       "      <td>7</td>\n",
       "      <td>1050</td>\n",
       "      <td>910</td>\n",
       "      <td>1965</td>\n",
       "      <td>0</td>\n",
       "      <td>47.5208</td>\n",
       "      <td>-122.393</td>\n",
       "      <td>1360</td>\n",
       "      <td>5000</td>\n",
       "    </tr>\n",
       "    <tr>\n",
       "      <td>4</td>\n",
       "      <td>510000.0</td>\n",
       "      <td>3</td>\n",
       "      <td>2.00</td>\n",
       "      <td>1680</td>\n",
       "      <td>8080</td>\n",
       "      <td>1.0</td>\n",
       "      <td>0</td>\n",
       "      <td>0</td>\n",
       "      <td>3</td>\n",
       "      <td>8</td>\n",
       "      <td>1680</td>\n",
       "      <td>0</td>\n",
       "      <td>1987</td>\n",
       "      <td>0</td>\n",
       "      <td>47.6168</td>\n",
       "      <td>-122.045</td>\n",
       "      <td>1800</td>\n",
       "      <td>7503</td>\n",
       "    </tr>\n",
       "  </tbody>\n",
       "</table>\n",
       "</div>"
      ],
      "text/plain": [
       "      price  bedrooms  bathrooms  sqft_living  sqft_lot  floors  waterfront  \\\n",
       "0  221900.0         3       1.00         1180      5650     1.0           0   \n",
       "1  538000.0         3       2.25         2570      7242     2.0           0   \n",
       "2  180000.0         2       1.00          770     10000     1.0           0   \n",
       "3  604000.0         4       3.00         1960      5000     1.0           0   \n",
       "4  510000.0         3       2.00         1680      8080     1.0           0   \n",
       "\n",
       "   view  condition  grade  sqft_above  sqft_basement  yr_built  yr_renovated  \\\n",
       "0     0          3      7        1180              0      1955             0   \n",
       "1     0          3      7        2170            400      1951          1991   \n",
       "2     0          3      6         770              0      1933             0   \n",
       "3     0          5      7        1050            910      1965             0   \n",
       "4     0          3      8        1680              0      1987             0   \n",
       "\n",
       "       lat     long  sqft_living15  sqft_lot15  \n",
       "0  47.5112 -122.257           1340        5650  \n",
       "1  47.7210 -122.319           1690        7639  \n",
       "2  47.7379 -122.233           2720        8062  \n",
       "3  47.5208 -122.393           1360        5000  \n",
       "4  47.6168 -122.045           1800        7503  "
      ]
     },
     "execution_count": 18,
     "metadata": {},
     "output_type": "execute_result"
    }
   ],
   "source": [
    "df1_1.head()"
   ]
  },
  {
   "cell_type": "code",
   "execution_count": 19,
   "metadata": {},
   "outputs": [],
   "source": [
    "# Import modules\n",
    "import numpy as np\n",
    "import pandas as pd\n",
    "from sklearn.model_selection import train_test_split\n",
    "from sklearn import linear_model\n",
    "from sklearn.neighbors import KNeighborsRegressor\n",
    "from sklearn.preprocessing import PolynomialFeatures\n",
    "from sklearn import metrics\n",
    "import matplotlib.pyplot as plt\n",
    "import seaborn as sns\n",
    "from mpl_toolkits.mplot3d import Axes3D\n",
    "%matplotlib inline"
   ]
  },
  {
   "cell_type": "code",
   "execution_count": 32,
   "metadata": {},
   "outputs": [
    {
     "data": {
      "text/html": [
       "<div>\n",
       "<style scoped>\n",
       "    .dataframe tbody tr th:only-of-type {\n",
       "        vertical-align: middle;\n",
       "    }\n",
       "\n",
       "    .dataframe tbody tr th {\n",
       "        vertical-align: top;\n",
       "    }\n",
       "\n",
       "    .dataframe thead th {\n",
       "        text-align: right;\n",
       "    }\n",
       "</style>\n",
       "<table border=\"1\" class=\"dataframe\">\n",
       "  <thead>\n",
       "    <tr style=\"text-align: right;\">\n",
       "      <th></th>\n",
       "      <th>price</th>\n",
       "      <th>bedrooms</th>\n",
       "      <th>bathrooms</th>\n",
       "      <th>sqft_living</th>\n",
       "      <th>sqft_lot</th>\n",
       "      <th>floors</th>\n",
       "      <th>waterfront</th>\n",
       "      <th>view</th>\n",
       "      <th>condition</th>\n",
       "      <th>grade</th>\n",
       "      <th>sqft_above</th>\n",
       "      <th>sqft_basement</th>\n",
       "      <th>yr_built</th>\n",
       "      <th>yr_renovated</th>\n",
       "      <th>lat</th>\n",
       "      <th>long</th>\n",
       "      <th>sqft_living15</th>\n",
       "      <th>sqft_lot15</th>\n",
       "    </tr>\n",
       "  </thead>\n",
       "  <tbody>\n",
       "    <tr>\n",
       "      <td>count</td>\n",
       "      <td>21613.000</td>\n",
       "      <td>21613.000</td>\n",
       "      <td>21613.000</td>\n",
       "      <td>21613.000</td>\n",
       "      <td>21613.000</td>\n",
       "      <td>21613.000</td>\n",
       "      <td>21613.000</td>\n",
       "      <td>21613.000</td>\n",
       "      <td>21613.000</td>\n",
       "      <td>21613.000</td>\n",
       "      <td>21613.000</td>\n",
       "      <td>21613.000</td>\n",
       "      <td>21613.000</td>\n",
       "      <td>21613.000</td>\n",
       "      <td>21613.000</td>\n",
       "      <td>21613.000</td>\n",
       "      <td>21613.000</td>\n",
       "      <td>21613.000</td>\n",
       "    </tr>\n",
       "    <tr>\n",
       "      <td>mean</td>\n",
       "      <td>540088.142</td>\n",
       "      <td>3.371</td>\n",
       "      <td>2.115</td>\n",
       "      <td>2079.900</td>\n",
       "      <td>15106.968</td>\n",
       "      <td>1.494</td>\n",
       "      <td>0.008</td>\n",
       "      <td>0.008</td>\n",
       "      <td>3.409</td>\n",
       "      <td>7.657</td>\n",
       "      <td>1788.391</td>\n",
       "      <td>291.509</td>\n",
       "      <td>1971.005</td>\n",
       "      <td>84.402</td>\n",
       "      <td>47.560</td>\n",
       "      <td>-122.214</td>\n",
       "      <td>1986.552</td>\n",
       "      <td>12768.456</td>\n",
       "    </tr>\n",
       "    <tr>\n",
       "      <td>std</td>\n",
       "      <td>367127.196</td>\n",
       "      <td>0.930</td>\n",
       "      <td>0.770</td>\n",
       "      <td>918.441</td>\n",
       "      <td>41420.512</td>\n",
       "      <td>0.540</td>\n",
       "      <td>0.087</td>\n",
       "      <td>0.087</td>\n",
       "      <td>0.651</td>\n",
       "      <td>1.175</td>\n",
       "      <td>828.091</td>\n",
       "      <td>442.575</td>\n",
       "      <td>29.373</td>\n",
       "      <td>401.679</td>\n",
       "      <td>0.139</td>\n",
       "      <td>0.141</td>\n",
       "      <td>685.391</td>\n",
       "      <td>27304.180</td>\n",
       "    </tr>\n",
       "    <tr>\n",
       "      <td>min</td>\n",
       "      <td>75000.000</td>\n",
       "      <td>0.000</td>\n",
       "      <td>0.000</td>\n",
       "      <td>290.000</td>\n",
       "      <td>520.000</td>\n",
       "      <td>1.000</td>\n",
       "      <td>0.000</td>\n",
       "      <td>0.000</td>\n",
       "      <td>1.000</td>\n",
       "      <td>1.000</td>\n",
       "      <td>290.000</td>\n",
       "      <td>0.000</td>\n",
       "      <td>1900.000</td>\n",
       "      <td>0.000</td>\n",
       "      <td>47.156</td>\n",
       "      <td>-122.519</td>\n",
       "      <td>399.000</td>\n",
       "      <td>651.000</td>\n",
       "    </tr>\n",
       "    <tr>\n",
       "      <td>25%</td>\n",
       "      <td>321950.000</td>\n",
       "      <td>3.000</td>\n",
       "      <td>1.750</td>\n",
       "      <td>1427.000</td>\n",
       "      <td>5040.000</td>\n",
       "      <td>1.000</td>\n",
       "      <td>0.000</td>\n",
       "      <td>0.000</td>\n",
       "      <td>3.000</td>\n",
       "      <td>7.000</td>\n",
       "      <td>1190.000</td>\n",
       "      <td>0.000</td>\n",
       "      <td>1951.000</td>\n",
       "      <td>0.000</td>\n",
       "      <td>47.471</td>\n",
       "      <td>-122.328</td>\n",
       "      <td>1490.000</td>\n",
       "      <td>5100.000</td>\n",
       "    </tr>\n",
       "    <tr>\n",
       "      <td>50%</td>\n",
       "      <td>450000.000</td>\n",
       "      <td>3.000</td>\n",
       "      <td>2.250</td>\n",
       "      <td>1910.000</td>\n",
       "      <td>7618.000</td>\n",
       "      <td>1.500</td>\n",
       "      <td>0.000</td>\n",
       "      <td>0.000</td>\n",
       "      <td>3.000</td>\n",
       "      <td>7.000</td>\n",
       "      <td>1560.000</td>\n",
       "      <td>0.000</td>\n",
       "      <td>1975.000</td>\n",
       "      <td>0.000</td>\n",
       "      <td>47.572</td>\n",
       "      <td>-122.230</td>\n",
       "      <td>1840.000</td>\n",
       "      <td>7620.000</td>\n",
       "    </tr>\n",
       "    <tr>\n",
       "      <td>75%</td>\n",
       "      <td>645000.000</td>\n",
       "      <td>4.000</td>\n",
       "      <td>2.500</td>\n",
       "      <td>2550.000</td>\n",
       "      <td>10688.000</td>\n",
       "      <td>2.000</td>\n",
       "      <td>0.000</td>\n",
       "      <td>0.000</td>\n",
       "      <td>4.000</td>\n",
       "      <td>8.000</td>\n",
       "      <td>2210.000</td>\n",
       "      <td>560.000</td>\n",
       "      <td>1997.000</td>\n",
       "      <td>0.000</td>\n",
       "      <td>47.678</td>\n",
       "      <td>-122.125</td>\n",
       "      <td>2360.000</td>\n",
       "      <td>10083.000</td>\n",
       "    </tr>\n",
       "    <tr>\n",
       "      <td>max</td>\n",
       "      <td>7700000.000</td>\n",
       "      <td>33.000</td>\n",
       "      <td>8.000</td>\n",
       "      <td>13540.000</td>\n",
       "      <td>1651359.000</td>\n",
       "      <td>3.500</td>\n",
       "      <td>1.000</td>\n",
       "      <td>1.000</td>\n",
       "      <td>5.000</td>\n",
       "      <td>13.000</td>\n",
       "      <td>9410.000</td>\n",
       "      <td>4820.000</td>\n",
       "      <td>2015.000</td>\n",
       "      <td>2015.000</td>\n",
       "      <td>47.778</td>\n",
       "      <td>-121.315</td>\n",
       "      <td>6210.000</td>\n",
       "      <td>871200.000</td>\n",
       "    </tr>\n",
       "  </tbody>\n",
       "</table>\n",
       "</div>"
      ],
      "text/plain": [
       "            price  bedrooms  bathrooms  sqft_living    sqft_lot    floors  \\\n",
       "count   21613.000 21613.000  21613.000    21613.000   21613.000 21613.000   \n",
       "mean   540088.142     3.371      2.115     2079.900   15106.968     1.494   \n",
       "std    367127.196     0.930      0.770      918.441   41420.512     0.540   \n",
       "min     75000.000     0.000      0.000      290.000     520.000     1.000   \n",
       "25%    321950.000     3.000      1.750     1427.000    5040.000     1.000   \n",
       "50%    450000.000     3.000      2.250     1910.000    7618.000     1.500   \n",
       "75%    645000.000     4.000      2.500     2550.000   10688.000     2.000   \n",
       "max   7700000.000    33.000      8.000    13540.000 1651359.000     3.500   \n",
       "\n",
       "       waterfront      view  condition     grade  sqft_above  sqft_basement  \\\n",
       "count   21613.000 21613.000  21613.000 21613.000   21613.000      21613.000   \n",
       "mean        0.008     0.008      3.409     7.657    1788.391        291.509   \n",
       "std         0.087     0.087      0.651     1.175     828.091        442.575   \n",
       "min         0.000     0.000      1.000     1.000     290.000          0.000   \n",
       "25%         0.000     0.000      3.000     7.000    1190.000          0.000   \n",
       "50%         0.000     0.000      3.000     7.000    1560.000          0.000   \n",
       "75%         0.000     0.000      4.000     8.000    2210.000        560.000   \n",
       "max         1.000     1.000      5.000    13.000    9410.000       4820.000   \n",
       "\n",
       "       yr_built  yr_renovated       lat      long  sqft_living15  sqft_lot15  \n",
       "count 21613.000     21613.000 21613.000 21613.000      21613.000   21613.000  \n",
       "mean   1971.005        84.402    47.560  -122.214       1986.552   12768.456  \n",
       "std      29.373       401.679     0.139     0.141        685.391   27304.180  \n",
       "min    1900.000         0.000    47.156  -122.519        399.000     651.000  \n",
       "25%    1951.000         0.000    47.471  -122.328       1490.000    5100.000  \n",
       "50%    1975.000         0.000    47.572  -122.230       1840.000    7620.000  \n",
       "75%    1997.000         0.000    47.678  -122.125       2360.000   10083.000  \n",
       "max    2015.000      2015.000    47.778  -121.315       6210.000  871200.000  "
      ]
     },
     "execution_count": 32,
     "metadata": {},
     "output_type": "execute_result"
    }
   ],
   "source": [
    "pd.set_option('display.float_format', lambda x: '%.3f' % x)\n",
    "df1_1.describe()"
   ]
  },
  {
   "cell_type": "code",
   "execution_count": 21,
   "metadata": {},
   "outputs": [
    {
     "data": {
      "text/plain": [
       "3     9824\n",
       "4     6882\n",
       "2     2760\n",
       "5     1601\n",
       "6      272\n",
       "1      199\n",
       "7       38\n",
       "8       13\n",
       "0       13\n",
       "9        6\n",
       "10       3\n",
       "11       1\n",
       "33       1\n",
       "Name: bedrooms, dtype: int64"
      ]
     },
     "execution_count": 21,
     "metadata": {},
     "output_type": "execute_result"
    }
   ],
   "source": [
    "df1_1['bedrooms'].value_counts()"
   ]
  },
  {
   "cell_type": "code",
   "execution_count": 22,
   "metadata": {},
   "outputs": [
    {
     "data": {
      "text/plain": [
       "0    21450\n",
       "1      163\n",
       "Name: waterfront, dtype: int64"
      ]
     },
     "execution_count": 22,
     "metadata": {},
     "output_type": "execute_result"
    }
   ],
   "source": [
    "df1_1['waterfront'].value_counts()"
   ]
  },
  {
   "cell_type": "code",
   "execution_count": 23,
   "metadata": {},
   "outputs": [
    {
     "data": {
      "text/plain": [
       "7     8981\n",
       "8     6068\n",
       "9     2615\n",
       "6     2038\n",
       "10    1134\n",
       "11     399\n",
       "5      242\n",
       "12      90\n",
       "4       29\n",
       "13      13\n",
       "3        3\n",
       "1        1\n",
       "Name: grade, dtype: int64"
      ]
     },
     "execution_count": 23,
     "metadata": {},
     "output_type": "execute_result"
    }
   ],
   "source": [
    "df1_1['grade'].value_counts()"
   ]
  },
  {
   "cell_type": "code",
   "execution_count": 24,
   "metadata": {},
   "outputs": [
    {
     "data": {
      "text/plain": [
       "<matplotlib.axes._subplots.AxesSubplot at 0x21a8b48d708>"
      ]
     },
     "execution_count": 24,
     "metadata": {},
     "output_type": "execute_result"
    },
    {
     "data": {
      "image/png": "[encoded data removed]",
      "text/plain": [
       "<Figure size 432x288 with 1 Axes>"
      ]
     },
     "metadata": {
      "needs_background": "light"
     },
     "output_type": "display_data"
    }
   ],
   "source": [
    "sns.countplot(df1_1.bedrooms, order = df1['bedrooms'].value_counts().index)"
   ]
  },
  {
   "cell_type": "code",
   "execution_count": 25,
   "metadata": {},
   "outputs": [
    {
     "data": {
      "text/plain": [
       "<matplotlib.axes._subplots.AxesSubplot at 0x21aa55eec08>"
      ]
     },
     "execution_count": 25,
     "metadata": {},
     "output_type": "execute_result"
    },
    {
     "data": {
      "image/png": "[encoded data removed]",
      "text/plain": [
       "<Figure size 1080x720 with 1 Axes>"
      ]
     },
     "metadata": {
      "needs_background": "light"
     },
     "output_type": "display_data"
    }
   ],
   "source": [
    "fig,axes = plt.subplots(nrows=1,ncols=1, figsize=(15,10))\n",
    "plt.title('House prices by sqft_living')\n",
    "plt.xlabel('sqft_living')\n",
    "plt.ylabel('House Prices')\n",
    "sns.barplot(x='sqft_living', y='price', data = df1_1)"
   ]
  },
  {
   "cell_type": "code",
   "execution_count": 26,
   "metadata": {},
   "outputs": [
    {
     "data": {
      "text/plain": [
       "<matplotlib.axes._subplots.AxesSubplot at 0x21aa61b22c8>"
      ]
     },
     "execution_count": 26,
     "metadata": {},
     "output_type": "execute_result"
    },
    {
     "data": {
      "image/png": "[encoded data removed]",
      "text/plain": [
       "<Figure size 1080x720 with 1 Axes>"
      ]
     },
     "metadata": {
      "needs_background": "light"
     },
     "output_type": "display_data"
    }
   ],
   "source": [
    "fig,axes = plt.subplots(nrows=1,ncols=1, figsize=(15,10))\n",
    "plt.title('House prices by sqft_living')\n",
    "plt.xlabel('sqft_above')\n",
    "plt.ylabel('House Prices')\n",
    "sns.barplot(x='sqft_above', y='price', data = df1)"
   ]
  },
  {
   "cell_type": "code",
   "execution_count": 27,
   "metadata": {},
   "outputs": [
    {
     "data": {
      "text/plain": [
       "(array([1.825e+04, 3.255e+03, 1.010e+02, 5.000e+00, 2.000e+00]),\n",
       " array([  290.,  2940.,  5590.,  8240., 10890., 13540.]),\n",
       " <a list of 5 Patch objects>)"
      ]
     },
     "execution_count": 27,
     "metadata": {},
     "output_type": "execute_result"
    },
    {
     "data": {
      "image/png": "[encoded data removed]",
      "text/plain": [
       "<Figure size 432x288 with 1 Axes>"
      ]
     },
     "metadata": {
      "needs_background": "light"
     },
     "output_type": "display_data"
    }
   ],
   "source": [
    "plt.hist('sqft_living', data = df1_1, bins = 5)"
   ]
  },
  {
   "cell_type": "code",
   "execution_count": 28,
   "metadata": {},
   "outputs": [
    {
     "data": {
      "text/plain": [
       "<matplotlib.axes._subplots.AxesSubplot at 0x21aab850608>"
      ]
     },
     "execution_count": 28,
     "metadata": {},
     "output_type": "execute_result"
    },
    {
     "data": {
      "image/png": "[encoded data removed]",
      "text/plain": [
       "<Figure size 1080x720 with 1 Axes>"
      ]
     },
     "metadata": {
      "needs_background": "light"
     },
     "output_type": "display_data"
    }
   ],
   "source": [
    "fig,axes = plt.subplots(nrows=1,ncols=1, figsize=(15,10))\n",
    "sns.distplot(df1_1['sqft_living'], hist=True, kde=True, rug=False, label='sqft_living', norm_hist=True)"
   ]
  },
  {
   "cell_type": "code",
   "execution_count": 29,
   "metadata": {},
   "outputs": [
    {
     "name": "stdout",
     "output_type": "stream",
     "text": [
      "Mean 2079.9\n",
      "Median 1910.0\n",
      "Mode 1300\n"
     ]
    }
   ],
   "source": [
    "#Finding out mean, median & mode\n",
    "print('Mean', round(df1_1['sqft_living'].mean(), 2))\n",
    "print('Median', df1_1['sqft_living'].median())\n",
    "print('Mode', df1_1['sqft_living'].mode()[0])"
   ]
  },
  {
   "cell_type": "code",
   "execution_count": 30,
   "metadata": {},
   "outputs": [
    {
     "data": {
      "text/plain": [
       "138"
      ]
     },
     "execution_count": 30,
     "metadata": {},
     "output_type": "execute_result"
    }
   ],
   "source": [
    "len(df1_1[df1_1['sqft_living']==1300])"
   ]
  },
  {
   "cell_type": "markdown",
   "metadata": {},
   "source": [
    "## Data Scaling"
   ]
  },
  {
   "cell_type": "code",
   "execution_count": 34,
   "metadata": {},
   "outputs": [],
   "source": [
    "from sklearn.preprocessing import MinMaxScaler\n",
    "from sklearn.model_selection import train_test_split\n",
    "\n",
    "X = df1_1.drop(['price'],axis=1)\n",
    "y = df1_1['price']\n",
    "\n",
    "X_train_org, X_test_org, y_train, y_test = train_test_split(X,y, random_state = 0)\n",
    "\n",
    "scaler = MinMaxScaler()\n",
    "X_train = scaler.fit_transform(X_train_org)\n",
    "X_test = scaler.transform(X_test_org)"
   ]
  },
  {
   "cell_type": "markdown",
   "metadata": {},
   "source": [
    "## Bagging"
   ]
  },
  {
   "cell_type": "markdown",
   "metadata": {},
   "source": [
    "#### 1. Lasso with Bagging"
   ]
  },
  {
   "cell_type": "code",
   "execution_count": 41,
   "metadata": {},
   "outputs": [
    {
     "name": "stdout",
     "output_type": "stream",
     "text": [
      "{'max_samples': 100, 'n_estimators': 1000}\n",
      "0.6787710005039502\n"
     ]
    }
   ],
   "source": [
    "from sklearn.model_selection import GridSearchCV\n",
    "from sklearn.linear_model import Lasso\n",
    "from sklearn.ensemble import BaggingRegressor\n",
    "\n",
    "lasso_reg = Lasso(alpha = 10,max_iter = 100000 )\n",
    "bag_lasso_reg = BaggingRegressor(lasso_reg, bootstrap=True, n_jobs=-1,random_state=0)\n",
    "\n",
    "tuned_parameters= {'n_estimators': [100,200,300,500,700,1000],'max_samples':[1,10,20,50,80,100]}\n",
    "\n",
    "bag_lasso_reg_grid = GridSearchCV(bag_lasso_reg,tuned_parameters,cv=5,iid = False)\n",
    "bag_lasso_reg_grid.fit(X_train, y_train)\n",
    "\n",
    "print(bag_lasso_reg_grid.best_params_)\n",
    "print(bag_lasso_reg_grid.best_score_)"
   ]
  },
  {
   "cell_type": "code",
   "execution_count": 46,
   "metadata": {},
   "outputs": [
    {
     "name": "stdout",
     "output_type": "stream",
     "text": [
      "R-squared score (Train score): 0.6807296065801283\n",
      "R-squared score (Test score): 0.6685371211419004\n"
     ]
    }
   ],
   "source": [
    "print('R-squared score (Train score):',bag_lasso_reg_grid.score(X_train, y_train))\n",
    "print('R-squared score (Test score):',bag_lasso_reg_grid.score(X_test, y_test))"
   ]
  },
  {
   "cell_type": "markdown",
   "metadata": {},
   "source": [
    "#### <font color='blue'> The best hyperparameters for BaggingRegressor are max_samples in 100 and n_estimators in 1000.  \n",
    "#### <font color='blue'>The BaggingRegressor is performed with Lasso regression as base estimator. It have 0.6807 in train score and 0.6685 in test score.  "
   ]
  },
  {
   "cell_type": "markdown",
   "metadata": {},
   "source": [
    "#### 2. Ridge with Bagging"
   ]
  },
  {
   "cell_type": "code",
   "execution_count": 157,
   "metadata": {},
   "outputs": [
    {
     "name": "stdout",
     "output_type": "stream",
     "text": [
      "{'max_samples': 100, 'n_estimators': 1000}\n",
      "0.6073630888301863\n"
     ]
    }
   ],
   "source": [
    "from  sklearn.linear_model import Ridge\n",
    "\n",
    "ridge_reg = Ridge(alpha = 1)\n",
    "bag_ridge_reg = BaggingRegressor(ridge_reg, bootstrap=True, n_jobs=-1,random_state=0)\n",
    "\n",
    "bag_ridge_reg_grid = GridSearchCV(bag_ridge_reg,tuned_parameters,cv=5,iid = False)\n",
    "bag_ridge_reg_grid.fit(X_train, y_train)\n",
    "\n",
    "print(bag_ridge_reg_grid.best_params_)\n",
    "print(bag_ridge_reg_grid.best_score_)"
   ]
  },
  {
   "cell_type": "code",
   "execution_count": 158,
   "metadata": {},
   "outputs": [
    {
     "name": "stdout",
     "output_type": "stream",
     "text": [
      "R-squared score (Train score): 0.6074830685222647\n",
      "R-squared score (Test score): 0.5919279789350974\n"
     ]
    }
   ],
   "source": [
    "print('R-squared score (Train score):',bag_ridge_reg_grid.score(X_train, y_train))\n",
    "print('R-squared score (Test score):',bag_ridge_reg_grid.score(X_test, y_test))"
   ]
  },
  {
   "cell_type": "markdown",
   "metadata": {},
   "source": [
    "#### <font color='blue'> The best hyperparameters for BaggingRegressor are max_samples in 100 and n_estimators in 1000.  \n",
    "#### <font color='blue'>The BaggingRegressor is performed with Ridge regression as base estimator. It have 0.6074 in train score and 0.5919 in test score. "
   ]
  },
  {
   "cell_type": "markdown",
   "metadata": {},
   "source": [
    "## Pasting"
   ]
  },
  {
   "cell_type": "markdown",
   "metadata": {},
   "source": [
    "#### 1. Lasso with Pasting"
   ]
  },
  {
   "cell_type": "code",
   "execution_count": 50,
   "metadata": {},
   "outputs": [
    {
     "name": "stdout",
     "output_type": "stream",
     "text": [
      "Best parameters: {'max_samples': 300, 'n_estimators': 700}\n",
      "Mean cross validation score: 0.6868864479726973\n"
     ]
    }
   ],
   "source": [
    "lasso_reg = Lasso(alpha = 10,max_iter = 100000 )\n",
    "past_lasso_reg = BaggingRegressor(lasso_reg, bootstrap=False, n_jobs=-1,random_state=0)\n",
    "\n",
    "tuned_parameters2= {'n_estimators': [100,200,300,500,700,1000],'max_samples':[20,50,80,100,200,300]}\n",
    "\n",
    "past_lasso_reg_grid = GridSearchCV(bag_lasso_reg,tuned_parameters2,cv=5,iid = False)\n",
    "past_lasso_reg_grid.fit(X_train, y_train)\n",
    "\n",
    "print('Best parameters:',past_lasso_reg_grid.best_params_)\n",
    "print('Mean cross validation score:',past_lasso_reg_grid.best_score_)"
   ]
  },
  {
   "cell_type": "code",
   "execution_count": 51,
   "metadata": {},
   "outputs": [
    {
     "name": "stdout",
     "output_type": "stream",
     "text": [
      "R-squared score (Train score): 0.6910963851353968\n",
      "R-squared score (Test score): 0.6739853638520945\n"
     ]
    }
   ],
   "source": [
    "print('R-squared score (Train score):',past_lasso_reg_grid.score(X_train, y_train))\n",
    "print('R-squared score (Test score):',past_lasso_reg_grid.score(X_test, y_test))"
   ]
  },
  {
   "cell_type": "markdown",
   "metadata": {},
   "source": [
    "#### <font color='blue'> The best hyperparameters for Lasso with pasting technique are max_samples in 300 and n_estimators in 700.  \n",
    "#### <font color='blue'> The first model is Lasso Regression with alpha equal to 10, which performed with pasting technique. It have 0.6910 in train score and 0.6739 in test score."
   ]
  },
  {
   "cell_type": "markdown",
   "metadata": {},
   "source": [
    "#### 2. Ridge with pasting"
   ]
  },
  {
   "cell_type": "code",
   "execution_count": 159,
   "metadata": {},
   "outputs": [
    {
     "name": "stdout",
     "output_type": "stream",
     "text": [
      "Best parameters: {'max_samples': 300, 'n_estimators': 100}\n",
      "Mean cross validation score: 0.6666930230822695\n"
     ]
    }
   ],
   "source": [
    "ridge_reg = Ridge(alpha = 1)\n",
    "past_ridge_reg = BaggingRegressor(ridge_reg, bootstrap=False, n_jobs=-1,random_state=0)\n",
    "\n",
    "past_ridge_reg_grid = GridSearchCV(bag_ridge_reg,tuned_parameters2,cv=5,iid = False)\n",
    "past_ridge_reg_grid.fit(X_train, y_train)\n",
    "\n",
    "print('Best parameters:',past_ridge_reg_grid.best_params_)\n",
    "print('Mean cross validation score:',past_ridge_reg_grid.best_score_)"
   ]
  },
  {
   "cell_type": "code",
   "execution_count": 160,
   "metadata": {},
   "outputs": [
    {
     "name": "stdout",
     "output_type": "stream",
     "text": [
      "R-squared score (Train score): 0.6681493948241668\n",
      "R-squared score (Test score): 0.6481303808466654\n"
     ]
    }
   ],
   "source": [
    "print('R-squared score (Train score):',past_ridge_reg_grid.score(X_train, y_train))\n",
    "print('R-squared score (Test score):',past_ridge_reg_grid.score(X_test, y_test))"
   ]
  },
  {
   "cell_type": "markdown",
   "metadata": {},
   "source": [
    "#### <font color='blue'> The best hyperparameters for Ridge with pasting technique are max_samples in 300 and n_estimators in 100.  \n",
    "#### <font color='blue'> The first model is Lasso Regression with alpha equal to 10, which performed with pasting technique. It have 0.6681 in train score and 0.6481 in test score."
   ]
  },
  {
   "cell_type": "markdown",
   "metadata": {},
   "source": [
    "## Adaboost Boosting"
   ]
  },
  {
   "cell_type": "markdown",
   "metadata": {},
   "source": [
    "#### 1. LinearSVR with Adaboost Boosting"
   ]
  },
  {
   "cell_type": "code",
   "execution_count": 195,
   "metadata": {},
   "outputs": [
    {
     "data": {
      "text/plain": [
       "GridSearchCV(cv=5, error_score='raise-deprecating',\n",
       "             estimator=AdaBoostRegressor(base_estimator=LinearSVR(C=200,\n",
       "                                                                  dual=True,\n",
       "                                                                  epsilon=0.0,\n",
       "                                                                  fit_intercept=True,\n",
       "                                                                  intercept_scaling=1.0,\n",
       "                                                                  loss='epsilon_insensitive',\n",
       "                                                                  max_iter=1000,\n",
       "                                                                  random_state=0,\n",
       "                                                                  tol=0.0001,\n",
       "                                                                  verbose=0),\n",
       "                                         learning_rate=1.0, loss='linear',\n",
       "                                         n_estimators=50, random_state=0),\n",
       "             iid=False, n_jobs=None,\n",
       "             param_grid={'learning_rate': [0.1, 0.25, 0.5, 0.75, 1],\n",
       "                         'n_estimators': [50, 100, 200, 500]},\n",
       "             pre_dispatch='2*n_jobs', refit=True, return_train_score=False,\n",
       "             scoring=None, verbose=0)"
      ]
     },
     "execution_count": 195,
     "metadata": {},
     "output_type": "execute_result"
    }
   ],
   "source": [
    "from sklearn.svm import LinearSVR\n",
    "from sklearn.ensemble import AdaBoostRegressor\n",
    "\n",
    "linsvr = LinearSVR(C=200, random_state=0)\n",
    "\n",
    "ada_linsvr_reg = AdaBoostRegressor(linsvr, random_state=0)\n",
    "\n",
    "tuned_parameters3= {'n_estimators': [50, 100, 200, 500],            \n",
    "                        'learning_rate':[0.1, 0.25, 0.5, 0.75, 1],\n",
    "                        }\n",
    "\n",
    "ada_linsvr_reg_grid = GridSearchCV(ada_linsvr_reg,tuned_parameters3,cv=5,iid = False)\n",
    "ada_linsvr_reg_grid.fit(X_train, y_train)"
   ]
  },
  {
   "cell_type": "code",
   "execution_count": 199,
   "metadata": {},
   "outputs": [
    {
     "name": "stdout",
     "output_type": "stream",
     "text": [
      "Best parameters: {'learning_rate': 0.25, 'n_estimators': 50}\n",
      "R-squared score (Train score): 0.44752081495796014\n",
      "R-squared score (Test score): 0.4324446778381124\n"
     ]
    }
   ],
   "source": [
    "print('Best parameters:',ada_linsvr_reg_grid.best_params_)\n",
    "print('R-squared score (Train score):',ada_linsvr_reg_grid.score(X_train, y_train))\n",
    "print('R-squared score (Test score):',ada_linsvr_reg_grid.score(X_test, y_test))"
   ]
  },
  {
   "cell_type": "markdown",
   "metadata": {},
   "source": [
    "#### <font color='blue'> The best hyperparameters for LinearSVR with Adaboost technique are learning_rate in 0.25 and n_estimators in 50.  \n",
    "#### <font color='blue'> The first model is LinearSVR with C equal to 200, which performed with Adaboost technique. It have 0.4475 in train score and 0.4324 in test score."
   ]
  },
  {
   "cell_type": "markdown",
   "metadata": {},
   "source": [
    "#### 2. Decision Tree Regressor with Adaboost Boosting"
   ]
  },
  {
   "cell_type": "code",
   "execution_count": 203,
   "metadata": {},
   "outputs": [
    {
     "data": {
      "text/plain": [
       "AdaBoostRegressor(base_estimator=DecisionTreeRegressor(criterion='mse',\n",
       "                                                       max_depth=None,\n",
       "                                                       max_features=None,\n",
       "                                                       max_leaf_nodes=None,\n",
       "                                                       min_impurity_decrease=0.0,\n",
       "                                                       min_impurity_split=None,\n",
       "                                                       min_samples_leaf=1,\n",
       "                                                       min_samples_split=2,\n",
       "                                                       min_weight_fraction_leaf=0.0,\n",
       "                                                       presort=False,\n",
       "                                                       random_state=0,\n",
       "                                                       splitter='best'),\n",
       "                  learning_rate=1, loss='linear', n_estimators=700,\n",
       "                  random_state=0)"
      ]
     },
     "execution_count": 203,
     "metadata": {},
     "output_type": "execute_result"
    }
   ],
   "source": [
    "from sklearn.tree import DecisionTreeRegressor\n",
    "dtree_reg = DecisionTreeRegressor(random_state=0)\n",
    "\n",
    "ada_dtree_reg = AdaBoostRegressor(dtree_reg, n_estimators=700,learning_rate=1, random_state=0)\n",
    "ada_dtree_reg.fit(X_train, y_train)"
   ]
  },
  {
   "cell_type": "code",
   "execution_count": 204,
   "metadata": {},
   "outputs": [
    {
     "name": "stdout",
     "output_type": "stream",
     "text": [
      "R-squared score (Train score): 0.9720908651590489\n",
      "R-squared score (Test score): 0.8898527451042585\n"
     ]
    }
   ],
   "source": [
    "print('R-squared score (Train score):',ada_dtree_reg.score(X_train, y_train))\n",
    "print('R-squared score (Test score):',ada_dtree_reg.score(X_test, y_test))"
   ]
  },
  {
   "cell_type": "markdown",
   "metadata": {},
   "source": [
    "#### <font color='blue'> The hyperparameters setting for DecisionTreeRegressor with Adaboost technique are learning_rate in 1 and n_estimators in 700.  \n",
    "#### <font color='blue'> The second model is DecisionTreeRegressor performed with Adaboost technique, which have 0.9720 in train score and 0.8898 in test score."
   ]
  },
  {
   "cell_type": "markdown",
   "metadata": {},
   "source": [
    "## Gradient Boosting"
   ]
  },
  {
   "cell_type": "code",
   "execution_count": 67,
   "metadata": {},
   "outputs": [
    {
     "data": {
      "text/plain": [
       "GridSearchCV(cv=3, error_score='raise-deprecating',\n",
       "             estimator=GradientBoostingRegressor(alpha=0.9,\n",
       "                                                 criterion='friedman_mse',\n",
       "                                                 init=None, learning_rate=0.1,\n",
       "                                                 loss='ls', max_depth=3,\n",
       "                                                 max_features=None,\n",
       "                                                 max_leaf_nodes=None,\n",
       "                                                 min_impurity_decrease=0.0,\n",
       "                                                 min_impurity_split=None,\n",
       "                                                 min_samples_leaf=1,\n",
       "                                                 min_samples_split=2,\n",
       "                                                 min_weight_fraction_leaf=0.0,\n",
       "                                                 n_estimators=100,\n",
       "                                                 n_iter_no_change=None,\n",
       "                                                 presort='auto', random_state=0,\n",
       "                                                 subsample=1.0, tol=0.0001,\n",
       "                                                 validation_fraction=0.1,\n",
       "                                                 verbose=0, warm_start=False),\n",
       "             iid='warn', n_jobs=None,\n",
       "             param_grid={'learning_rate': [0.25, 0.5, 0.75, 1],\n",
       "                         'max_depth': [2, 3, 4, 5],\n",
       "                         'n_estimators': [5, 20, 100, 200, 500]},\n",
       "             pre_dispatch='2*n_jobs', refit=True, return_train_score=False,\n",
       "             scoring=None, verbose=0)"
      ]
     },
     "execution_count": 67,
     "metadata": {},
     "output_type": "execute_result"
    }
   ],
   "source": [
    "from sklearn.ensemble import GradientBoostingRegressor\n",
    "\n",
    "gbrt = GradientBoostingRegressor(random_state=0)\n",
    "\n",
    "tuned_parameters_gbrt= {'n_estimators': [5, 20, 100, 200, 500],            \n",
    "                        'learning_rate':[0.25, 0.5, 0.75, 1],\n",
    "                        'max_depth':[2, 3, 4, 5]\n",
    "                        }\n",
    "\n",
    "model_gbrt = GridSearchCV(gbrt,tuned_parameters_gbrt,cv=3)\n",
    "model_gbrt.fit(X_train, y_train)"
   ]
  },
  {
   "cell_type": "code",
   "execution_count": 74,
   "metadata": {},
   "outputs": [
    {
     "name": "stdout",
     "output_type": "stream",
     "text": [
      "Best parameters: {'learning_rate': 0.25, 'max_depth': 3, 'n_estimators': 500}\n",
      "Mean cross validation score: 0.8718961369208763\n"
     ]
    }
   ],
   "source": [
    "print('Best parameters:',model_gbrt.best_params_)\n",
    "print('Mean cross validation score:',model_gbrt.best_score_)"
   ]
  },
  {
   "cell_type": "code",
   "execution_count": 75,
   "metadata": {},
   "outputs": [
    {
     "name": "stdout",
     "output_type": "stream",
     "text": [
      "R-squared score (Train score): 0.9602518929529711\n",
      "R-squared score (Test score): 0.8958204703416579\n"
     ]
    }
   ],
   "source": [
    "print('R-squared score (Train score):',model_gbrt.score(X_train, y_train))\n",
    "print('R-squared score (Test score):',model_gbrt.score(X_test, y_test))"
   ]
  },
  {
   "cell_type": "markdown",
   "metadata": {},
   "source": [
    "#### <font color='blue'>  The best hyperparameters for GradientBoostingClassifier are laerning_rate in 0.25, max_depth in 3 and n_estimators in 500."
   ]
  },
  {
   "cell_type": "markdown",
   "metadata": {},
   "source": [
    "#### <font color='blue'> The GradientBoostingClassifier model have 0.9602 in train score and 0.8958 in test score. This model might be overfitting."
   ]
  },
  {
   "cell_type": "markdown",
   "metadata": {},
   "source": [
    "## Deep Learning"
   ]
  },
  {
   "cell_type": "code",
   "execution_count": 208,
   "metadata": {},
   "outputs": [
    {
     "name": "stderr",
     "output_type": "stream",
     "text": [
      "Using TensorFlow backend.\n"
     ]
    }
   ],
   "source": [
    "from keras.models import Sequential\n",
    "from keras.layers import Dense\n",
    "\n",
    "model = Sequential()\n",
    "#Input Layer\n",
    "model.add(Dense(13, input_dim=17, kernel_initializer='normal', activation='relu'))\n",
    "\n",
    "#Hidden Layers\n",
    "model.add(Dense(256, kernel_initializer='normal',activation='relu'))\n",
    "model.add(Dense(256, kernel_initializer='normal',activation='relu'))\n",
    "model.add(Dense(256, kernel_initializer='normal',activation='relu'))\n",
    "\n",
    "#Output Layer\n",
    "model.add(Dense(1, kernel_initializer='normal',activation='linear'))\n",
    "\n",
    "#Complie the model\n",
    "model.compile(loss='mse', optimizer='adam' , metrics = ['mse'])"
   ]
  },
  {
   "cell_type": "code",
   "execution_count": 209,
   "metadata": {},
   "outputs": [
    {
     "name": "stdout",
     "output_type": "stream",
     "text": [
      "Epoch 1/100\n",
      "16209/16209 [==============================] - 1s 85us/step - loss: 147836071973.3995 - mse: 147836092416.0000\n",
      "Epoch 2/100\n",
      "16209/16209 [==============================] - 1s 77us/step - loss: 53308288565.0984 - mse: 53308289024.0000\n",
      "Epoch 3/100\n",
      "16209/16209 [==============================] - 1s 76us/step - loss: 42306225838.7730 - mse: 42306244608.0000\n",
      "Epoch 4/100\n",
      "16209/16209 [==============================] - 1s 78us/step - loss: 39922520088.3855 - mse: 39922528256.0000\n",
      "Epoch 5/100\n",
      "16209/16209 [==============================] - 1s 81us/step - loss: 38733501022.2884 - mse: 38733492224.0000\n",
      "Epoch 6/100\n",
      "16209/16209 [==============================] - 1s 79us/step - loss: 37234511934.9853 - mse: 37234524160.0000\n",
      "Epoch 7/100\n",
      "16209/16209 [==============================] - 1s 77us/step - loss: 36283037963.5452 - mse: 36283031552.0000\n",
      "Epoch 8/100\n",
      "16209/16209 [==============================] - 1s 79us/step - loss: 35438361457.8568 - mse: 35438374912.0000\n",
      "Epoch 9/100\n",
      "16209/16209 [==============================] - 1s 73us/step - loss: 34941105472.0750 - mse: 34941104128.0000\n",
      "Epoch 10/100\n",
      "16209/16209 [==============================] - 1s 79us/step - loss: 34461494065.0394 - mse: 34461487104.0000\n",
      "Epoch 11/100\n",
      "16209/16209 [==============================] - 1s 75us/step - loss: 34151123803.8719 - mse: 34151145472.0000\n",
      "Epoch 12/100\n",
      "16209/16209 [==============================] - 1s 79us/step - loss: 33461185553.3415 - mse: 33461202944.0000\n",
      "Epoch 13/100\n",
      "16209/16209 [==============================] - 1s 77us/step - loss: 33247306983.5356 - mse: 33247311872.0000\n",
      "Epoch 14/100\n",
      "16209/16209 [==============================] - 1s 76us/step - loss: 33175850581.6334 - mse: 33175830528.0000\n",
      "Epoch 15/100\n",
      "16209/16209 [==============================] - 1s 81us/step - loss: 32933529519.3258 - mse: 32933531648.0000\n",
      "Epoch 16/100\n",
      "16209/16209 [==============================] - 1s 76us/step - loss: 32447223155.6572 - mse: 32447236096.0000\n",
      "Epoch 17/100\n",
      "16209/16209 [==============================] - 1s 79us/step - loss: 32406010034.7846 - mse: 32406022144.0000\n",
      "Epoch 18/100\n",
      "16209/16209 [==============================] - 1s 79us/step - loss: 32197143719.7290 - mse: 32197146624.0000\n",
      "Epoch 19/100\n",
      "16209/16209 [==============================] - 1s 75us/step - loss: 32183989559.5780 - mse: 32183975936.0000\n",
      "Epoch 20/100\n",
      "16209/16209 [==============================] - 1s 82us/step - loss: 32148332492.7021 - mse: 32148332544.0000\n",
      "Epoch 21/100\n",
      "16209/16209 [==============================] - 1s 76us/step - loss: 31970443900.4859 - mse: 31970461696.0000\n",
      "Epoch 22/100\n",
      "16209/16209 [==============================] - 1s 84us/step - loss: 31910824398.9448 - mse: 31910838272.0000\n",
      "Epoch 23/100\n",
      "16209/16209 [==============================] - 1s 78us/step - loss: 31533993963.7209 - mse: 31533971456.0000\n",
      "Epoch 24/100\n",
      "16209/16209 [==============================] - 1s 75us/step - loss: 31726731186.1687 - mse: 31726737408.0000\n",
      "Epoch 25/100\n",
      "16209/16209 [==============================] - 1s 78us/step - loss: 31561103271.6817 - mse: 31561080832.0000\n",
      "Epoch 26/100\n",
      "16209/16209 [==============================] - 1s 78us/step - loss: 31407259612.9380 - mse: 31407255552.0000\n",
      "Epoch 27/100\n",
      "16209/16209 [==============================] - 1s 78us/step - loss: 31331808440.4704 - mse: 31331805184.0000\n",
      "Epoch 28/100\n",
      "16209/16209 [==============================] - 1s 80us/step - loss: 31302094642.3345 - mse: 31302082560.0000\n",
      "Epoch 29/100\n",
      "16209/16209 [==============================] - 1s 80us/step - loss: 31126675475.8369 - mse: 31126669312.0000\n",
      "Epoch 30/100\n",
      "16209/16209 [==============================] - 1s 72us/step - loss: 31086577883.6271 - mse: 31086581760.0000\n",
      "Epoch 31/100\n",
      "16209/16209 [==============================] - 1s 74us/step - loss: 30875891354.0517 - mse: 30875901952.0000\n",
      "Epoch 32/100\n",
      "16209/16209 [==============================] - 1s 83us/step - loss: 30961905867.6123 - mse: 30961897472.0000\n",
      "Epoch 33/100\n",
      "16209/16209 [==============================] - 1s 79us/step - loss: 30866383628.4612 - mse: 30866354176.0000\n",
      "Epoch 34/100\n",
      "16209/16209 [==============================] - 1s 79us/step - loss: 30485679145.3163 - mse: 30485673984.0000\n",
      "Epoch 35/100\n",
      "16209/16209 [==============================] - 1s 78us/step - loss: 30779674948.2761 - mse: 30779662336.0000\n",
      "Epoch 36/100\n",
      "16209/16209 [==============================] - 1s 85us/step - loss: 30388567677.2440 - mse: 30388602880.0000\n",
      "Epoch 37/100\n",
      "16209/16209 [==============================] - 1s 78us/step - loss: 30486021728.6258 - mse: 30486022144.0000\n",
      "Epoch 38/100\n",
      "16209/16209 [==============================] - 1s 80us/step - loss: 30546594306.3059 - mse: 30546587648.0000\n",
      "Epoch 39/100\n",
      "16209/16209 [==============================] - 1s 78us/step - loss: 30285403113.9520 - mse: 30285426688.0000\n",
      "Epoch 40/100\n",
      "16209/16209 [==============================] - 1s 78us/step - loss: 30417648313.7023 - mse: 30417659904.0000\n",
      "Epoch 41/100\n",
      "16209/16209 [==============================] - 1s 72us/step - loss: 30247411937.9762 - mse: 30247401472.0000\n",
      "Epoch 42/100\n",
      "16209/16209 [==============================] - 1s 74us/step - loss: 30204062510.6388 - mse: 30204076032.0000\n",
      "Epoch 43/100\n",
      "16209/16209 [==============================] - 1s 78us/step - loss: 30036929504.9812 - mse: 30036951040.0000\n",
      "Epoch 44/100\n",
      "16209/16209 [==============================] - 1s 75us/step - loss: 29945421092.7519 - mse: 29945446400.0000\n",
      "Epoch 45/100\n",
      "16209/16209 [==============================] - 1s 77us/step - loss: 29762217618.8498 - mse: 29762215936.0000\n",
      "Epoch 46/100\n",
      "16209/16209 [==============================] - 1s 77us/step - loss: 30102953899.2510 - mse: 30102962176.0000\n",
      "Epoch 47/100\n",
      "16209/16209 [==============================] - 1s 79us/step - loss: 29780829594.5729 - mse: 29780828160.0000\n",
      "Epoch 48/100\n",
      "16209/16209 [==============================] - 1s 77us/step - loss: 29770974107.6785 - mse: 29770969088.0000\n",
      "Epoch 49/100\n",
      "16209/16209 [==============================] - 1s 76us/step - loss: 29673097246.2607 - mse: 29673080832.0000\n",
      "Epoch 50/100\n",
      "16209/16209 [==============================] - 1s 76us/step - loss: 29728433193.8217 - mse: 29728417792.0000\n",
      "Epoch 51/100\n",
      "16209/16209 [==============================] - 1s 75us/step - loss: 29457142875.4139 - mse: 29457141760.0000\n",
      "Epoch 52/100\n",
      "16209/16209 [==============================] - 1s 76us/step - loss: 29604891337.8750 - mse: 29604892672.0000\n",
      "Epoch 53/100\n",
      "16209/16209 [==============================] - 1s 76us/step - loss: 29538649657.0152 - mse: 29538652160.0000\n",
      "Epoch 54/100\n",
      "16209/16209 [==============================] - 1s 75us/step - loss: 29465275086.8658 - mse: 29465255936.0000\n",
      "Epoch 55/100\n",
      "16209/16209 [==============================] - 1s 76us/step - loss: 29482295635.5013 - mse: 29482299392.0000\n",
      "Epoch 56/100\n",
      "16209/16209 [==============================] - 1s 82us/step - loss: 28967707893.3708 - mse: 28967708672.0000\n",
      "Epoch 57/100\n",
      "16209/16209 [==============================] - 1s 78us/step - loss: 28831027959.9294 - mse: 28831039488.0000\n",
      "Epoch 58/100\n",
      "16209/16209 [==============================] - 1s 77us/step - loss: 28874186731.8472 - mse: 28874182656.0000\n",
      "Epoch 59/100\n",
      "16209/16209 [==============================] - 1s 74us/step - loss: 28847088692.3719 - mse: 28847101952.0000\n",
      "Epoch 60/100\n",
      "16209/16209 [==============================] - 1s 82us/step - loss: 28801081465.1061 - mse: 28801069056.0000\n",
      "Epoch 61/100\n",
      "16209/16209 [==============================] - 1s 80us/step - loss: 28712678363.6113 - mse: 28712695808.0000\n",
      "Epoch 62/100\n",
      "16209/16209 [==============================] - 1s 79us/step - loss: 28677071509.5031 - mse: 28677087232.0000\n",
      "Epoch 63/100\n",
      "16209/16209 [==============================] - 1s 78us/step - loss: 28523203202.2348 - mse: 28523202560.0000\n",
      "Epoch 64/100\n",
      "16209/16209 [==============================] - 1s 79us/step - loss: 28656634722.6948 - mse: 28656646144.0000\n",
      "Epoch 65/100\n",
      "16209/16209 [==============================] - 1s 79us/step - loss: 28434069858.1578 - mse: 28434065408.0000\n",
      "Epoch 66/100\n",
      "16209/16209 [==============================] - 1s 78us/step - loss: 28398319782.4024 - mse: 28398323712.0000\n",
      "Epoch 67/100\n",
      "16209/16209 [==============================] - 1s 77us/step - loss: 28430572500.5989 - mse: 28430559232.0000\n",
      "Epoch 68/100\n",
      "16209/16209 [==============================] - 1s 80us/step - loss: 28373960205.9616 - mse: 28373968896.0000\n",
      "Epoch 69/100\n",
      "16209/16209 [==============================] - 1s 77us/step - loss: 28075562165.8802 - mse: 28075548672.0000\n",
      "Epoch 70/100\n",
      "16209/16209 [==============================] - 1s 77us/step - loss: 28016535386.0083 - mse: 28016531456.0000\n",
      "Epoch 71/100\n",
      "16209/16209 [==============================] - 1s 77us/step - loss: 28253226133.7874 - mse: 28253227008.0000\n",
      "Epoch 72/100\n",
      "16209/16209 [==============================] - 1s 76us/step - loss: 28252315610.7901 - mse: 28252321792.0000\n",
      "Epoch 73/100\n",
      "16209/16209 [==============================] - 1s 74us/step - loss: 28172263609.1653 - mse: 28172265472.0000\n",
      "Epoch 74/100\n",
      "16209/16209 [==============================] - 1s 75us/step - loss: 27987344678.0786 - mse: 27987355648.0000\n",
      "Epoch 75/100\n",
      "16209/16209 [==============================] - 1s 75us/step - loss: 28104234853.6640 - mse: 28104263680.0000\n",
      "Epoch 76/100\n",
      "16209/16209 [==============================] - 1s 80us/step - loss: 27793276886.9364 - mse: 27793266688.0000\n",
      "Epoch 77/100\n",
      "16209/16209 [==============================] - 1s 77us/step - loss: 27874407710.8767 - mse: 27874408448.0000\n",
      "Epoch 78/100\n",
      "16209/16209 [==============================] - 1s 75us/step - loss: 27847278454.3422 - mse: 27847290880.0000\n",
      "Epoch 79/100\n",
      "16209/16209 [==============================] - 1s 76us/step - loss: 27760087569.2783 - mse: 27760107520.0000\n",
      "Epoch 80/100\n",
      "16209/16209 [==============================] - 1s 74us/step - loss: 27955331499.7564 - mse: 27955345408.0000\n",
      "Epoch 81/100\n",
      "16209/16209 [==============================] - 1s 75us/step - loss: 27985490492.7425 - mse: 27985500160.0000\n",
      "Epoch 82/100\n",
      "16209/16209 [==============================] - 1s 76us/step - loss: 27835492741.8200 - mse: 27835484160.0000\n",
      "Epoch 83/100\n",
      "16209/16209 [==============================] - 1s 75us/step - loss: 27892578513.6139 - mse: 27892568064.0000\n",
      "Epoch 84/100\n",
      "16209/16209 [==============================] - 1s 76us/step - loss: 27864726774.1289 - mse: 27864711168.0000\n",
      "Epoch 85/100\n",
      "16209/16209 [==============================] - 1s 78us/step - loss: 27664275017.0616 - mse: 27664269312.0000\n",
      "Epoch 86/100\n",
      "16209/16209 [==============================] - 1s 78us/step - loss: 27686596773.3916 - mse: 27686602752.0000\n",
      "Epoch 87/100\n",
      "16209/16209 [==============================] - 1s 78us/step - loss: 27709793148.3438 - mse: 27709792256.0000\n",
      "Epoch 88/100\n",
      "16209/16209 [==============================] - 1s 77us/step - loss: 27619665338.6657 - mse: 27619684352.0000\n",
      "Epoch 89/100\n",
      "16209/16209 [==============================] - 1s 77us/step - loss: 27660155498.7022 - mse: 27660171264.0000\n",
      "Epoch 90/100\n",
      "16209/16209 [==============================] - 1s 74us/step - loss: 27625762400.6258 - mse: 27625793536.0000\n",
      "Epoch 91/100\n",
      "16209/16209 [==============================] - 1s 77us/step - loss: 27696476736.8489 - mse: 27696486400.0000\n",
      "Epoch 92/100\n",
      "16209/16209 [==============================] - 1s 77us/step - loss: 27306382571.4524 - mse: 27306383360.0000\n",
      "Epoch 93/100\n",
      "16209/16209 [==============================] - 1s 79us/step - loss: 27510019977.4841 - mse: 27510018048.0000\n",
      "Epoch 94/100\n",
      "16209/16209 [==============================] - 1s 77us/step - loss: 27618845627.0763 - mse: 27618816000.0000\n",
      "Epoch 95/100\n",
      "16209/16209 [==============================] - 1s 76us/step - loss: 27520312906.2620 - mse: 27520333824.0000\n",
      "Epoch 96/100\n",
      "16209/16209 [==============================] - 1s 76us/step - loss: 27743204376.5118 - mse: 27743195136.0000\n",
      "Epoch 97/100\n",
      "16209/16209 [==============================] - 1s 81us/step - loss: 27438874142.3239 - mse: 27438876672.0000\n",
      "Epoch 98/100\n",
      "16209/16209 [==============================] - 1s 78us/step - loss: 27420453952.6594 - mse: 27420459008.0000\n",
      "Epoch 99/100\n",
      "16209/16209 [==============================] - 1s 75us/step - loss: 27617657455.1560 - mse: 27617640448.0000\n",
      "Epoch 100/100\n",
      "16209/16209 [==============================] - 1s 75us/step - loss: 27484158765.2489 - mse: 27484162048.0000\n"
     ]
    },
    {
     "data": {
      "text/plain": [
       "<keras.callbacks.callbacks.History at 0x21abd5b1388>"
      ]
     },
     "execution_count": 209,
     "metadata": {},
     "output_type": "execute_result"
    }
   ],
   "source": [
    "model.fit(X_train, y_train, epochs = 100, batch_size = 20)"
   ]
  },
  {
   "cell_type": "code",
   "execution_count": 210,
   "metadata": {},
   "outputs": [
    {
     "name": "stdout",
     "output_type": "stream",
     "text": [
      "5404/5404 [==============================] - 0s 18us/step\n"
     ]
    },
    {
     "data": {
      "text/plain": [
       "[29388589607.792747, 29388591104.0]"
      ]
     },
     "execution_count": 210,
     "metadata": {},
     "output_type": "execute_result"
    }
   ],
   "source": [
    "model.evaluate(X_test, y_test)"
   ]
  },
  {
   "cell_type": "code",
   "execution_count": 213,
   "metadata": {},
   "outputs": [
    {
     "name": "stdout",
     "output_type": "stream",
     "text": [
      "R2 train score: 0.78\n",
      "R2 test score: 0.78\n"
     ]
    }
   ],
   "source": [
    "from sklearn.metrics import r2_score, recall_score, precision_score\n",
    "\n",
    "y_train_predict = model.predict(X_train)\n",
    "y_test_predict = model.predict(X_test)\n",
    "\n",
    "print('R2 train score: {:.2f}'.format(r2_score(y_train, y_train_predict)))\n",
    "print('R2 test score: {:.2f}'.format(r2_score(y_test, y_test_predict)))"
   ]
  },
  {
   "cell_type": "markdown",
   "metadata": {},
   "source": [
    "#### <font color='blue'> In our deep learning model, we have one input layer connect with four hidden layers which activate by 'relu' function. For the output layer, we use mse as a loss function and‘linear’as the activation function. Finally, we get 0.78 r2 score on both train and test data, which is pretty good result."
   ]
  },
  {
   "cell_type": "markdown",
   "metadata": {},
   "source": [
    "## PCA Comparsion"
   ]
  },
  {
   "cell_type": "code",
   "execution_count": 112,
   "metadata": {},
   "outputs": [
    {
     "data": {
      "text/plain": [
       "(16209, 9)"
      ]
     },
     "execution_count": 112,
     "metadata": {},
     "output_type": "execute_result"
    }
   ],
   "source": [
    "from sklearn.decomposition import PCA\n",
    "\n",
    "pca = PCA(0.95)\n",
    "\n",
    "X_train_PCA = pca.fit_transform(X_train)\n",
    "X_test_PCA = pca.transform(X_test)\n",
    "\n",
    "X_train_PCA.shape"
   ]
  },
  {
   "cell_type": "markdown",
   "metadata": {},
   "source": [
    "#### (a) KNN Regressor"
   ]
  },
  {
   "cell_type": "code",
   "execution_count": 113,
   "metadata": {},
   "outputs": [
    {
     "data": {
      "text/plain": [
       "Text(0, 0.5, 'MSE')"
      ]
     },
     "execution_count": 113,
     "metadata": {},
     "output_type": "execute_result"
    },
    {
     "data": {
      "image/png": "[encoded data removed]",
      "text/plain": [
       "<Figure size 432x288 with 1 Axes>"
      ]
     },
     "metadata": {
      "needs_background": "light"
     },
     "output_type": "display_data"
    }
   ],
   "source": [
    "from sklearn.neighbors import KNeighborsRegressor\n",
    "\n",
    "%matplotlib inline\n",
    "train_score_array = []\n",
    "test_score_array = []\n",
    "\n",
    "for k in range(1,10):\n",
    "    knn_reg = KNeighborsRegressor(k)\n",
    "    knn_reg.fit(X_train_PCA, y_train)\n",
    "    train_score_array.append(knn_reg.score(X_train_PCA, y_train))\n",
    "    test_score_array.append(knn_reg.score(X_test_PCA, y_test))\n",
    "\n",
    "x_axis = range(1,10)\n",
    "plt.plot(x_axis, train_score_array, c = 'g', label = 'Train Score')\n",
    "plt.plot(x_axis, test_score_array, c = 'b', label = 'Test Score')\n",
    "plt.legend()\n",
    "plt.xlabel('k')\n",
    "plt.ylabel('MSE')"
   ]
  },
  {
   "cell_type": "code",
   "execution_count": 125,
   "metadata": {},
   "outputs": [
    {
     "name": "stdout",
     "output_type": "stream",
     "text": [
      "Best parameters: {'n_neighbors': 5}\n"
     ]
    }
   ],
   "source": [
    "from sklearn.model_selection import cross_val_score\n",
    "from sklearn.model_selection import GridSearchCV\n",
    "\n",
    "param_grid = {'n_neighbors': [1,2,3,4,5,6,7,8,9,10,11,12,13,14,15]}\n",
    "\n",
    "grid_knn = GridSearchCV(KNeighborsRegressor(), param_grid, cv=5, return_train_score=True)\n",
    "grid_knn.fit(X_train_PCA, y_train)\n",
    "\n",
    "print(\"Best parameters: {}\".format(grid_knn.best_params_))"
   ]
  },
  {
   "cell_type": "code",
   "execution_count": 127,
   "metadata": {},
   "outputs": [
    {
     "name": "stdout",
     "output_type": "stream",
     "text": [
      "R-squared score (training): 0.877\n",
      "R-squared score (test): 0.802\n"
     ]
    }
   ],
   "source": [
    "print('R-squared score (training): {:.3f}'\n",
    "     .format(grid_knn.score(X_train_PCA, y_train)))\n",
    "print('R-squared score (test): {:.3f}'\n",
    "     .format(grid_knn.score(X_test_PCA, y_test)))"
   ]
  },
  {
   "cell_type": "code",
   "execution_count": 118,
   "metadata": {},
   "outputs": [
    {
     "name": "stdout",
     "output_type": "stream",
     "text": [
      "Mean cross validation score: 0.8017472244951254\n"
     ]
    }
   ],
   "source": [
    "print('Mean cross validation score:',grid_knn.best_score_)"
   ]
  },
  {
   "cell_type": "markdown",
   "metadata": {},
   "source": [
    "<font color='green'> KNN regression model using data from PCA in Project 2:   \n",
    "Best hyperparameter of model: k=5   \n",
    "R-squared score (training): 0.877     \n",
    "R-squared score (test): 0.802  "
   ]
  },
  {
   "cell_type": "markdown",
   "metadata": {},
   "source": [
    "<font color='blue'>  KNN regression model using data from original preprocess in Project 1:   \n",
    "Best hyperparameter of model: k=6   \n",
    "R-squared score (training): 0.867     \n",
    "R-squared score (test): 0.806  "
   ]
  },
  {
   "cell_type": "markdown",
   "metadata": {},
   "source": [
    "#### (b) Linear Regression"
   ]
  },
  {
   "cell_type": "code",
   "execution_count": 123,
   "metadata": {},
   "outputs": [
    {
     "data": {
      "text/plain": [
       "LinearRegression(copy_X=True, fit_intercept=True, n_jobs=None, normalize=False)"
      ]
     },
     "execution_count": 123,
     "metadata": {},
     "output_type": "execute_result"
    }
   ],
   "source": [
    "from sklearn.linear_model import LinearRegression\n",
    "\n",
    "lreg = LinearRegression()\n",
    "lreg.fit(X_train_PCA, y_train)\n"
   ]
  },
  {
   "cell_type": "code",
   "execution_count": 124,
   "metadata": {},
   "outputs": [
    {
     "name": "stdout",
     "output_type": "stream",
     "text": [
      "R-squared score (Training): 0.6658\n",
      "R-squared score (Test): 0.6400\n"
     ]
    }
   ],
   "source": [
    "print('R-squared score (Training): {:.4f}'\n",
    "     .format(lreg.score(X_train_PCA, y_train)))\n",
    "print('R-squared score (Test): {:.4f}'\n",
    "     .format(lreg.score(X_test_PCA, y_test)))"
   ]
  },
  {
   "cell_type": "markdown",
   "metadata": {},
   "source": [
    "<font color='green'> Linear regression model using data from PCA in Project 2:      \n",
    "R-squared score (training): 0.6658     \n",
    "R-squared score (test): 0.64 "
   ]
  },
  {
   "cell_type": "markdown",
   "metadata": {},
   "source": [
    "<font color='blue'> Linear regression model using data from original preprocess in Project 1:      \n",
    "R-squared score (training): 0.6920     \n",
    "R-squared score (test): 0.6745 "
   ]
  },
  {
   "cell_type": "markdown",
   "metadata": {},
   "source": [
    "#### (c) Ridge"
   ]
  },
  {
   "cell_type": "code",
   "execution_count": 130,
   "metadata": {},
   "outputs": [],
   "source": [
    "from  sklearn.linear_model import Ridge\n",
    "\n",
    "x_range = [0.01, 0.1, 1, 10, 100]\n",
    "train_score_list = []\n",
    "test_score_list = []\n",
    "\n",
    "for alpha in x_range: \n",
    "    ridge = Ridge(alpha)\n",
    "    ridge.fit(X_train_PCA,y_train)\n",
    "    train_score_list.append(ridge.score(X_train_PCA, y_train))\n",
    "    test_score_list.append(ridge.score(X_test_PCA, y_test))"
   ]
  },
  {
   "cell_type": "code",
   "execution_count": 131,
   "metadata": {},
   "outputs": [
    {
     "data": {
      "text/plain": [
       "Text(0.5, 0, '$\\\\alpha$')"
      ]
     },
     "execution_count": 131,
     "metadata": {},
     "output_type": "execute_result"
    },
    {
     "data": {
      "image/png": "[encoded data removed]",
      "text/plain": [
       "<Figure size 432x288 with 1 Axes>"
      ]
     },
     "metadata": {
      "needs_background": "light"
     },
     "output_type": "display_data"
    }
   ],
   "source": [
    "%matplotlib inline\n",
    "import matplotlib.pyplot as plt\n",
    "plt.plot(x_range, train_score_list, c = 'g', label = 'Train Score')\n",
    "plt.plot(x_range, test_score_list, c = 'b', label = 'Test Score')\n",
    "plt.xscale('log')\n",
    "plt.legend(loc = 3)\n",
    "plt.xlabel(r'$\\alpha$')"
   ]
  },
  {
   "cell_type": "code",
   "execution_count": 132,
   "metadata": {},
   "outputs": [
    {
     "name": "stdout",
     "output_type": "stream",
     "text": [
      "Best parameters: {'alpha': 10}\n",
      "R-squared score (training): 0.6655\n",
      "R-squared score (test): 0.6398\n"
     ]
    }
   ],
   "source": [
    "param_grid = {'alpha': [0.001, 0.01, 0.1, 1, 10, 100]}\n",
    "\n",
    "grid_ridge = GridSearchCV(Ridge(), param_grid, cv=5, return_train_score=True)\n",
    "grid_ridge.fit(X_train_PCA,y_train)\n",
    "\n",
    "print(\"Best parameters: {}\".format(grid_ridge.best_params_))\n",
    "\n",
    "print('R-squared score (training): {:.4f}'\n",
    "     .format(grid_ridge.score(X_train_PCA,y_train)))\n",
    "print('R-squared score (test): {:.4f}'\n",
    "     .format(grid_ridge.score(X_test_PCA,y_test)))"
   ]
  },
  {
   "cell_type": "markdown",
   "metadata": {},
   "source": [
    "<font color='green'> Ridge regression model using data from PCA in Project 2:      \n",
    "Best hyperparameter of model: alpha=10 \n",
    "R-squared score (training): 0.6655     \n",
    "R-squared score (test): 0.6398 "
   ]
  },
  {
   "cell_type": "markdown",
   "metadata": {},
   "source": [
    "<font color='blue'> Ridge regression model using data from original preprocess in Project 1:      \n",
    "Best hyperparameter of model: alpha=1 \n",
    "R-squared score (training): 0.6919     \n",
    "R-squared score (test): 0.6740 "
   ]
  },
  {
   "cell_type": "markdown",
   "metadata": {},
   "source": [
    "#### (d) Lasso"
   ]
  },
  {
   "cell_type": "code",
   "execution_count": 134,
   "metadata": {},
   "outputs": [],
   "source": [
    "from sklearn.linear_model import Lasso\n",
    "x_range = [0.01, 0.1, 1, 10, 100]\n",
    "train_score_list = []\n",
    "test_score_list = []\n",
    "\n",
    "for alpha in x_range: \n",
    "    lasso = Lasso(alpha)\n",
    "    lasso.fit(X_train_PCA,y_train)\n",
    "    train_score_list.append(lasso.score(X_train_PCA,y_train))\n",
    "    test_score_list.append(lasso.score(X_test_PCA, y_test))"
   ]
  },
  {
   "cell_type": "code",
   "execution_count": 135,
   "metadata": {},
   "outputs": [
    {
     "data": {
      "text/plain": [
       "Text(0.5, 0, '$\\\\alpha$')"
      ]
     },
     "execution_count": 135,
     "metadata": {},
     "output_type": "execute_result"
    },
    {
     "data": {
      "image/png": "[encoded data removed]",
      "text/plain": [
       "<Figure size 432x288 with 1 Axes>"
      ]
     },
     "metadata": {
      "needs_background": "light"
     },
     "output_type": "display_data"
    }
   ],
   "source": [
    "plt.plot(x_range, train_score_list, c = 'g', label = 'Train Score')\n",
    "plt.plot(x_range, test_score_list, c = 'b', label = 'Test Score')\n",
    "plt.xscale('log')\n",
    "plt.legend(loc = 3)\n",
    "plt.xlabel(r'$\\alpha$')"
   ]
  },
  {
   "cell_type": "code",
   "execution_count": 136,
   "metadata": {},
   "outputs": [
    {
     "name": "stdout",
     "output_type": "stream",
     "text": [
      "Best parameters: {'alpha': 100}\n",
      "R-squared score (training): 0.6657\n",
      "R-squared score (test): 0.6400\n"
     ]
    }
   ],
   "source": [
    "param_grid = {'alpha': [0.01, 0.1, 1, 10, 100]}\n",
    "\n",
    "grid_lasso = GridSearchCV(Lasso(max_iter = 100000), param_grid, cv=5, return_train_score=True)\n",
    "grid_lasso.fit(X_train_PCA,y_train)\n",
    "\n",
    "print(\"Best parameters: {}\".format(grid_lasso.best_params_))\n",
    "\n",
    "print('R-squared score (training): {:.4f}'\n",
    "     .format(grid_lasso.score(X_train_PCA,y_train)))\n",
    "print('R-squared score (test): {:.4f}'\n",
    "     .format(grid_lasso.score(X_test_PCA,y_test)))"
   ]
  },
  {
   "cell_type": "markdown",
   "metadata": {},
   "source": [
    "<font color='green'> Lasso regression model using data from PCA in Project 2:      \n",
    "Best hyperparameter of model: alpha=100 \n",
    "R-squared score (training): 0.6657     \n",
    "R-squared score (test): 0.6400 "
   ]
  },
  {
   "cell_type": "markdown",
   "metadata": {},
   "source": [
    "<font color='blue'> Lasso regression model using data from original preprocess in Project 1:      \n",
    "Best hyperparameter of model: alpha=10 \n",
    "R-squared score (training): 0.6920     \n",
    "R-squared score (test): 0.6745 "
   ]
  },
  {
   "cell_type": "markdown",
   "metadata": {},
   "source": [
    "#### (e) Polynomial Regression"
   ]
  },
  {
   "cell_type": "code",
   "execution_count": 142,
   "metadata": {},
   "outputs": [
    {
     "data": {
      "text/plain": [
       "<matplotlib.legend.Legend at 0x21aaffbdd88>"
      ]
     },
     "execution_count": 142,
     "metadata": {},
     "output_type": "execute_result"
    },
    {
     "data": {
      "image/png": "[encoded data removed]",
      "text/plain": [
       "<Figure size 432x288 with 1 Axes>"
      ]
     },
     "metadata": {
      "needs_background": "light"
     },
     "output_type": "display_data"
    }
   ],
   "source": [
    "from  sklearn.preprocessing  import PolynomialFeatures\n",
    "\n",
    "train_score_list = []\n",
    "test_score_list = []\n",
    "\n",
    "for n in range(1,5):\n",
    "    poly = PolynomialFeatures(n)\n",
    "    X_train_poly = poly.fit_transform(X_train_PCA)\n",
    "    X_test_poly = poly.transform(X_test_PCA)\n",
    "    lreg.fit(X_train_poly, y_train)\n",
    "    train_score_list.append(lreg.score(X_train_poly, y_train))\n",
    "    test_score_list.append(lreg.score(X_test_poly, y_test))\n",
    "    \n",
    "%matplotlib inline\n",
    "\n",
    "x_axis = range(1,5)\n",
    "plt.plot(x_axis, train_score_list, c = 'g', label = 'Train Score')\n",
    "plt.plot(x_axis, test_score_list, c = 'b', label = 'Test Score')\n",
    "plt.xlabel('degree')\n",
    "plt.ylabel('accuracy')\n",
    "plt.legend()"
   ]
  },
  {
   "cell_type": "code",
   "execution_count": 150,
   "metadata": {},
   "outputs": [
    {
     "name": "stdout",
     "output_type": "stream",
     "text": [
      "R-squared score (train): 0.854867184614345\n",
      "R-squared score (test): 0.824132390583115\n"
     ]
    }
   ],
   "source": [
    "print('R-squared score (train):',train_score_list[2])\n",
    "print('R-squared score (test):',test_score_list[2])"
   ]
  },
  {
   "cell_type": "markdown",
   "metadata": {},
   "source": [
    "<font color='green'>  Polynomial regression model using data from PCA in Project 2:       \n",
    "R-squared score (training): 0.8548     \n",
    "R-squared score (test): 0.8241 "
   ]
  },
  {
   "cell_type": "markdown",
   "metadata": {},
   "source": [
    "<font color='blue'> Polynomial regression model using data from original preprocess in Project 1:       \n",
    "R-squared score (training): 0.8153     \n",
    "R-squared score (test): 0.7944 "
   ]
  },
  {
   "cell_type": "markdown",
   "metadata": {},
   "source": [
    "#### <font color='red'> Polynomial regression model in project1 is not fully optimized. Thus, the model accuracy seems improve in PCA data."
   ]
  },
  {
   "cell_type": "markdown",
   "metadata": {},
   "source": [
    "#### (f) SVM"
   ]
  },
  {
   "cell_type": "markdown",
   "metadata": {},
   "source": [
    "#### Simple SVM"
   ]
  },
  {
   "cell_type": "code",
   "execution_count": 152,
   "metadata": {},
   "outputs": [
    {
     "name": "stdout",
     "output_type": "stream",
     "text": [
      "Best parameters: {'C': 10, 'epsilon': 0.1}\n",
      "R-squared score (training): -1.085\n",
      "R-squared score (test): -1.068\n"
     ]
    }
   ],
   "source": [
    "from sklearn.svm import LinearSVR\n",
    "from sklearn import svm, datasets\n",
    "from sklearn.model_selection import GridSearchCV\n",
    "\n",
    "param_grid = {'C':[0.1, 1, 10], 'epsilon': [0.1, 1, 10]}\n",
    "grid_linsvm = GridSearchCV(LinearSVR(), param_grid, cv=5, return_train_score=True)\n",
    "grid_linsvm.fit(X_train_PCA, y_train)\n",
    "\n",
    "print(\"Best parameters: {}\".format(grid_linsvm.best_params_))\n",
    "\n",
    "print('R-squared score (training): {:.3f}'\n",
    "     .format(grid_linsvm.score(X_train_PCA, y_train)))\n",
    "print('R-squared score (test): {:.3f}'\n",
    "     .format(grid_linsvm.score(X_test_PCA, y_test)))"
   ]
  },
  {
   "cell_type": "markdown",
   "metadata": {},
   "source": [
    "<font color='green'> Simple SVM model using data from PCA in Project 2:       \n",
    "Best hyperparameters of model: C=10 and epsilon = 0.1  \n",
    "R-squared score (training): -1.085    \n",
    "R-squared score (test): -1.068 "
   ]
  },
  {
   "cell_type": "markdown",
   "metadata": {},
   "source": [
    "<font color='blue'> Simple SVM model using data from original preprocess in Project 1:       \n",
    "Best hyperparameters of model: C=10 and epsilon = 10  \n",
    "R-squared score (training): -0.316    \n",
    "R-squared score (test): -0.301"
   ]
  },
  {
   "cell_type": "markdown",
   "metadata": {},
   "source": [
    "#### rbf"
   ]
  },
  {
   "cell_type": "code",
   "execution_count": 171,
   "metadata": {},
   "outputs": [
    {
     "name": "stdout",
     "output_type": "stream",
     "text": [
      "Best parameters: {'C': 100, 'gamma': 1}\n",
      "R-squared score (training): 0.099\n",
      "R-squared score (test): 0.111\n"
     ]
    }
   ],
   "source": [
    "from sklearn.svm import SVR\n",
    "param_grid = {'C':[0.01, 0.1, 1, 10,100], 'gamma': [0.01, 0.1, 1, 10]}\n",
    "grid_kernelsvm = GridSearchCV(SVR(kernel = 'rbf'), param_grid, cv= 5, return_train_score=True)\n",
    "grid_kernelsvm.fit(X_train_PCA, y_train)\n",
    "\n",
    "print(\"Best parameters: {}\".format(grid_kernelsvm.best_params_))\n",
    "print('R-squared score (training): {:.3f}'\n",
    "     .format(grid_kernelsvm.score(X_train_PCA, y_train)))\n",
    "print('R-squared score (test): {:.3f}'\n",
    "     .format(grid_kernelsvm.score(X_test_PCA, y_test)))"
   ]
  },
  {
   "cell_type": "markdown",
   "metadata": {},
   "source": [
    "<font color='green'>  SVM model with rbf kernel using data from PCA in Project 2:       \n",
    "Best hyperparameters of model: C=100 and gamma = 1  \n",
    "R-squared score (training): 0.099    \n",
    "R-squared score (test): 0.111"
   ]
  },
  {
   "cell_type": "markdown",
   "metadata": {},
   "source": [
    "<font color='blue'>  SVM model with rbf kernel using data from original preprocess in Project 1:       \n",
    "Best hyperparameters of model: C=100 and gamma = 1  \n",
    "R-squared score (training): 0.097    \n",
    "R-squared score (test): 0.109"
   ]
  },
  {
   "cell_type": "markdown",
   "metadata": {},
   "source": [
    "#### ploy"
   ]
  },
  {
   "cell_type": "code",
   "execution_count": 155,
   "metadata": {},
   "outputs": [
    {
     "name": "stdout",
     "output_type": "stream",
     "text": [
      "Best parameters: {'C': 100, 'gamma': 10}\n",
      "R-squared score (training): 0.613\n",
      "R-squared score (test): 0.637\n"
     ]
    }
   ],
   "source": [
    "from sklearn.svm import SVR\n",
    "param_grid = {'C':[0.01, 0.1, 1, 10, 100], 'gamma': [0.01, 0.1, 1, 10]}\n",
    "grid_kernelsvm = GridSearchCV(SVR(kernel = 'poly'), param_grid, cv= 5, return_train_score=True)\n",
    "grid_kernelsvm.fit(X_train_PCA, y_train)\n",
    "\n",
    "print(\"Best parameters: {}\".format(grid_kernelsvm.best_params_))\n",
    "\n",
    "print('R-squared score (training): {:.3f}'\n",
    "     .format(grid_kernelsvm.score(X_train_PCA, y_train)))\n",
    "print('R-squared score (test): {:.3f}'\n",
    "     .format(grid_kernelsvm.score(X_test_PCA, y_test)))"
   ]
  },
  {
   "cell_type": "markdown",
   "metadata": {},
   "source": [
    "<font color='green'>  SVM model with poly kernel using data from PCA in Project 2:       \n",
    "Best hyperparameters of model: C=100 and gamma = 10  \n",
    "R-squared score (training): 0.613    \n",
    "R-squared score (test): 0.637"
   ]
  },
  {
   "cell_type": "markdown",
   "metadata": {},
   "source": [
    "<font color='blue'> SVM model with poly kernel using data from original preprocess in Project 1:       \n",
    "Best hyperparameters of model: C=100 and gamma = 10  \n",
    "R-squared score (training): 0.817    \n",
    "R-squared score (test): 0.789"
   ]
  },
  {
   "cell_type": "markdown",
   "metadata": {},
   "source": [
    "#### linear"
   ]
  },
  {
   "cell_type": "code",
   "execution_count": 170,
   "metadata": {},
   "outputs": [
    {
     "name": "stdout",
     "output_type": "stream",
     "text": [
      "Best parameters: {'C': 100, 'gamma': 0.01}\n",
      "R-squared score (training): 0.110\n",
      "R-squared score (test): 0.116\n"
     ]
    }
   ],
   "source": [
    "from sklearn.svm import SVR\n",
    "param_grid = {'C':[0.01, 0.1, 1, 10, 100], 'gamma': [0.01, 0.1, 1, 10,]}\n",
    "grid_kernelsvm = GridSearchCV(SVR(kernel = 'linear'), param_grid, cv= 5, return_train_score=True)\n",
    "grid_kernelsvm.fit(X_train_PCA, y_train)\n",
    "\n",
    "print(\"Best parameters: {}\".format(grid_kernelsvm.best_params_))\n",
    "print('R-squared score (training): {:.3f}'\n",
    "     .format(grid_kernelsvm.score(X_train_PCA, y_train)))\n",
    "print('R-squared score (test): {:.3f}'\n",
    "     .format(grid_kernelsvm.score(X_test_PCA, y_test)))"
   ]
  },
  {
   "cell_type": "markdown",
   "metadata": {},
   "source": [
    "<font color='green'>  SVM model with linear kernel using data from PCA in Project 2:       \n",
    "Best hyperparameters of model: C=100 and gamma=0.01  \n",
    "R-squared score (training): 0.110    \n",
    "R-squared score (test): 0.116"
   ]
  },
  {
   "cell_type": "markdown",
   "metadata": {},
   "source": [
    "<font color='blue'> SVM model with linear kernel using data from original preprocess in Project 1:       \n",
    "Best hyperparameters of model: C=100 and gamma = 0.01  \n",
    "R-squared score (training): 0.111    \n",
    "R-squared score (test): 0.116"
   ]
  },
  {
   "cell_type": "markdown",
   "metadata": {},
   "source": [
    "#### <font color='red'> Conclusion: Using data from PCA does not help in getting better regression result either training or testing process.\n",
    "#### <font color='red'> The best model for house price prediction in project 2 is GradientBoostingClassifier model with laerning_rate in 0.25, max_depth in 3 and n_estimators in 500,which have 0.9602 in train score and 0.8958 in test score but it might have the risk of overfitting."
   ]
  }
 ],
 "metadata": {
  "kernelspec": {
   "display_name": "Python 3",
   "language": "python",
   "name": "python3"
  },
  "language_info": {
   "codemirror_mode": {
    "name": "ipython",
    "version": 3
   },
   "file_extension": ".py",
   "mimetype": "text/x-python",
   "name": "python",
   "nbconvert_exporter": "python",
   "pygments_lexer": "ipython3",
   "version": "3.8.5"
  }
 },
 "nbformat": 4,
 "nbformat_minor": 2
}
